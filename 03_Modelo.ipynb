{
  "nbformat": 4,
  "nbformat_minor": 0,
  "metadata": {
    "colab": {
      "provenance": [],
      "authorship_tag": "ABX9TyMWyZxO707CuaVqjhRANDfc",
      "include_colab_link": true
    },
    "kernelspec": {
      "name": "python3",
      "display_name": "Python 3"
    },
    "language_info": {
      "name": "python"
    }
  },
  "cells": [
    {
      "cell_type": "markdown",
      "metadata": {
        "id": "view-in-github",
        "colab_type": "text"
      },
      "source": [
        "<a href=\"https://colab.research.google.com/github/juantoro5/Proyecto-IA-Zillow-prize/blob/main/03_Modelo.ipynb\" target=\"_parent\"><img src=\"https://colab.research.google.com/assets/colab-badge.svg\" alt=\"Open In Colab\"/></a>"
      ]
    },
    {
      "cell_type": "markdown",
      "source": [
        "***Es fundamental correr todos los codigos desde el inicio, en este Notebook se hara mayor enfasis como su nombre lo indica en la parte del Modelo.***"
      ],
      "metadata": {
        "id": "yZ4fqLz7e8kP"
      }
    },
    {
      "cell_type": "code",
      "execution_count": null,
      "metadata": {
        "id": "jklk0AFec8K5"
      },
      "outputs": [],
      "source": [
        "import numpy as np\n",
        "import pandas as pd\n",
        "import seaborn as sns\n",
        "import matplotlib.pyplot as plt\n",
        "import missingno as msno\n",
        "#bibliotecas de machine learning\n",
        "from sklearn.linear_model import LinearRegression\n",
        "from sklearn.tree import DecisionTreeRegressor\n",
        "from sklearn.ensemble import RandomForestRegressor\n",
        "from sklearn.model_selection import cross_validate, ShuffleSplit\n",
        "\n",
        "from sklearn.model_selection import learning_curve\n",
        "from sklearn.metrics import mean_squared_error\n",
        "from sklearn.impute import SimpleImputer\n",
        "from sklearn.preprocessing import OneHotEncoder\n",
        "from sklearn.preprocessing import FunctionTransformer\n",
        "from sklearn.pipeline import Pipeline\n",
        "from sklearn.compose import ColumnTransformer\n",
        "from sklearn.preprocessing import LabelEncoder\n",
        "from sklearn import utils\n",
        "from sklearn import preprocessing\n",
        "from sklearn.model_selection import train_test_split,KFold,GroupKFold\n",
        "import lightgbm as lgb\n",
        "import gc\n",
        "\n",
        "\n",
        "import warnings\n",
        "warnings.filterwarnings('ignore')"
      ]
    },
    {
      "cell_type": "code",
      "source": [
        "!pip install kaggle\n"
      ],
      "metadata": {
        "id": "goBzfV2WdCgL",
        "colab": {
          "base_uri": "https://localhost:8080/"
        },
        "outputId": "b95e2ecd-954d-4753-99c5-181bf3a02c11"
      },
      "execution_count": null,
      "outputs": [
        {
          "output_type": "stream",
          "name": "stdout",
          "text": [
            "Looking in indexes: https://pypi.org/simple, https://us-python.pkg.dev/colab-wheels/public/simple/\n",
            "Requirement already satisfied: kaggle in /usr/local/lib/python3.10/dist-packages (1.5.13)\n",
            "Requirement already satisfied: six>=1.10 in /usr/local/lib/python3.10/dist-packages (from kaggle) (1.16.0)\n",
            "Requirement already satisfied: certifi in /usr/local/lib/python3.10/dist-packages (from kaggle) (2022.12.7)\n",
            "Requirement already satisfied: python-dateutil in /usr/local/lib/python3.10/dist-packages (from kaggle) (2.8.2)\n",
            "Requirement already satisfied: requests in /usr/local/lib/python3.10/dist-packages (from kaggle) (2.27.1)\n",
            "Requirement already satisfied: tqdm in /usr/local/lib/python3.10/dist-packages (from kaggle) (4.65.0)\n",
            "Requirement already satisfied: python-slugify in /usr/local/lib/python3.10/dist-packages (from kaggle) (8.0.1)\n",
            "Requirement already satisfied: urllib3 in /usr/local/lib/python3.10/dist-packages (from kaggle) (1.26.15)\n",
            "Requirement already satisfied: text-unidecode>=1.3 in /usr/local/lib/python3.10/dist-packages (from python-slugify->kaggle) (1.3)\n",
            "Requirement already satisfied: charset-normalizer~=2.0.0 in /usr/local/lib/python3.10/dist-packages (from requests->kaggle) (2.0.12)\n",
            "Requirement already satisfied: idna<4,>=2.5 in /usr/local/lib/python3.10/dist-packages (from requests->kaggle) (3.4)\n"
          ]
        }
      ]
    },
    {
      "cell_type": "code",
      "source": [
        "from google.colab import files\n",
        "files.upload()"
      ],
      "metadata": {
        "id": "B8H3xFCcdEi6",
        "colab": {
          "base_uri": "https://localhost:8080/",
          "height": 90
        },
        "outputId": "3201db10-4d97-454d-b481-2af7a8a93a23"
      },
      "execution_count": null,
      "outputs": [
        {
          "output_type": "display_data",
          "data": {
            "text/plain": [
              "<IPython.core.display.HTML object>"
            ],
            "text/html": [
              "\n",
              "     <input type=\"file\" id=\"files-6d9a8a98-cf12-4efb-b3e7-92baffafaae5\" name=\"files[]\" multiple disabled\n",
              "        style=\"border:none\" />\n",
              "     <output id=\"result-6d9a8a98-cf12-4efb-b3e7-92baffafaae5\">\n",
              "      Upload widget is only available when the cell has been executed in the\n",
              "      current browser session. Please rerun this cell to enable.\n",
              "      </output>\n",
              "      <script>// Copyright 2017 Google LLC\n",
              "//\n",
              "// Licensed under the Apache License, Version 2.0 (the \"License\");\n",
              "// you may not use this file except in compliance with the License.\n",
              "// You may obtain a copy of the License at\n",
              "//\n",
              "//      http://www.apache.org/licenses/LICENSE-2.0\n",
              "//\n",
              "// Unless required by applicable law or agreed to in writing, software\n",
              "// distributed under the License is distributed on an \"AS IS\" BASIS,\n",
              "// WITHOUT WARRANTIES OR CONDITIONS OF ANY KIND, either express or implied.\n",
              "// See the License for the specific language governing permissions and\n",
              "// limitations under the License.\n",
              "\n",
              "/**\n",
              " * @fileoverview Helpers for google.colab Python module.\n",
              " */\n",
              "(function(scope) {\n",
              "function span(text, styleAttributes = {}) {\n",
              "  const element = document.createElement('span');\n",
              "  element.textContent = text;\n",
              "  for (const key of Object.keys(styleAttributes)) {\n",
              "    element.style[key] = styleAttributes[key];\n",
              "  }\n",
              "  return element;\n",
              "}\n",
              "\n",
              "// Max number of bytes which will be uploaded at a time.\n",
              "const MAX_PAYLOAD_SIZE = 100 * 1024;\n",
              "\n",
              "function _uploadFiles(inputId, outputId) {\n",
              "  const steps = uploadFilesStep(inputId, outputId);\n",
              "  const outputElement = document.getElementById(outputId);\n",
              "  // Cache steps on the outputElement to make it available for the next call\n",
              "  // to uploadFilesContinue from Python.\n",
              "  outputElement.steps = steps;\n",
              "\n",
              "  return _uploadFilesContinue(outputId);\n",
              "}\n",
              "\n",
              "// This is roughly an async generator (not supported in the browser yet),\n",
              "// where there are multiple asynchronous steps and the Python side is going\n",
              "// to poll for completion of each step.\n",
              "// This uses a Promise to block the python side on completion of each step,\n",
              "// then passes the result of the previous step as the input to the next step.\n",
              "function _uploadFilesContinue(outputId) {\n",
              "  const outputElement = document.getElementById(outputId);\n",
              "  const steps = outputElement.steps;\n",
              "\n",
              "  const next = steps.next(outputElement.lastPromiseValue);\n",
              "  return Promise.resolve(next.value.promise).then((value) => {\n",
              "    // Cache the last promise value to make it available to the next\n",
              "    // step of the generator.\n",
              "    outputElement.lastPromiseValue = value;\n",
              "    return next.value.response;\n",
              "  });\n",
              "}\n",
              "\n",
              "/**\n",
              " * Generator function which is called between each async step of the upload\n",
              " * process.\n",
              " * @param {string} inputId Element ID of the input file picker element.\n",
              " * @param {string} outputId Element ID of the output display.\n",
              " * @return {!Iterable<!Object>} Iterable of next steps.\n",
              " */\n",
              "function* uploadFilesStep(inputId, outputId) {\n",
              "  const inputElement = document.getElementById(inputId);\n",
              "  inputElement.disabled = false;\n",
              "\n",
              "  const outputElement = document.getElementById(outputId);\n",
              "  outputElement.innerHTML = '';\n",
              "\n",
              "  const pickedPromise = new Promise((resolve) => {\n",
              "    inputElement.addEventListener('change', (e) => {\n",
              "      resolve(e.target.files);\n",
              "    });\n",
              "  });\n",
              "\n",
              "  const cancel = document.createElement('button');\n",
              "  inputElement.parentElement.appendChild(cancel);\n",
              "  cancel.textContent = 'Cancel upload';\n",
              "  const cancelPromise = new Promise((resolve) => {\n",
              "    cancel.onclick = () => {\n",
              "      resolve(null);\n",
              "    };\n",
              "  });\n",
              "\n",
              "  // Wait for the user to pick the files.\n",
              "  const files = yield {\n",
              "    promise: Promise.race([pickedPromise, cancelPromise]),\n",
              "    response: {\n",
              "      action: 'starting',\n",
              "    }\n",
              "  };\n",
              "\n",
              "  cancel.remove();\n",
              "\n",
              "  // Disable the input element since further picks are not allowed.\n",
              "  inputElement.disabled = true;\n",
              "\n",
              "  if (!files) {\n",
              "    return {\n",
              "      response: {\n",
              "        action: 'complete',\n",
              "      }\n",
              "    };\n",
              "  }\n",
              "\n",
              "  for (const file of files) {\n",
              "    const li = document.createElement('li');\n",
              "    li.append(span(file.name, {fontWeight: 'bold'}));\n",
              "    li.append(span(\n",
              "        `(${file.type || 'n/a'}) - ${file.size} bytes, ` +\n",
              "        `last modified: ${\n",
              "            file.lastModifiedDate ? file.lastModifiedDate.toLocaleDateString() :\n",
              "                                    'n/a'} - `));\n",
              "    const percent = span('0% done');\n",
              "    li.appendChild(percent);\n",
              "\n",
              "    outputElement.appendChild(li);\n",
              "\n",
              "    const fileDataPromise = new Promise((resolve) => {\n",
              "      const reader = new FileReader();\n",
              "      reader.onload = (e) => {\n",
              "        resolve(e.target.result);\n",
              "      };\n",
              "      reader.readAsArrayBuffer(file);\n",
              "    });\n",
              "    // Wait for the data to be ready.\n",
              "    let fileData = yield {\n",
              "      promise: fileDataPromise,\n",
              "      response: {\n",
              "        action: 'continue',\n",
              "      }\n",
              "    };\n",
              "\n",
              "    // Use a chunked sending to avoid message size limits. See b/62115660.\n",
              "    let position = 0;\n",
              "    do {\n",
              "      const length = Math.min(fileData.byteLength - position, MAX_PAYLOAD_SIZE);\n",
              "      const chunk = new Uint8Array(fileData, position, length);\n",
              "      position += length;\n",
              "\n",
              "      const base64 = btoa(String.fromCharCode.apply(null, chunk));\n",
              "      yield {\n",
              "        response: {\n",
              "          action: 'append',\n",
              "          file: file.name,\n",
              "          data: base64,\n",
              "        },\n",
              "      };\n",
              "\n",
              "      let percentDone = fileData.byteLength === 0 ?\n",
              "          100 :\n",
              "          Math.round((position / fileData.byteLength) * 100);\n",
              "      percent.textContent = `${percentDone}% done`;\n",
              "\n",
              "    } while (position < fileData.byteLength);\n",
              "  }\n",
              "\n",
              "  // All done.\n",
              "  yield {\n",
              "    response: {\n",
              "      action: 'complete',\n",
              "    }\n",
              "  };\n",
              "}\n",
              "\n",
              "scope.google = scope.google || {};\n",
              "scope.google.colab = scope.google.colab || {};\n",
              "scope.google.colab._files = {\n",
              "  _uploadFiles,\n",
              "  _uploadFilesContinue,\n",
              "};\n",
              "})(self);\n",
              "</script> "
            ]
          },
          "metadata": {}
        },
        {
          "output_type": "stream",
          "name": "stdout",
          "text": [
            "Saving kaggle.json to kaggle.json\n"
          ]
        },
        {
          "output_type": "execute_result",
          "data": {
            "text/plain": [
              "{'kaggle.json': b'{\"username\":\"juanjosetorovillegas\",\"key\":\"1efd06c40a72c357b8a7762567371873\"}'}"
            ]
          },
          "metadata": {},
          "execution_count": 3
        }
      ]
    },
    {
      "cell_type": "code",
      "source": [
        "!mkdir -p ~/.kaggle\n",
        "!cp kaggle.json ~/.kaggle/\n",
        "!chmod 600 ~/.kaggle/kaggle.json"
      ],
      "metadata": {
        "id": "0eciDgRQdGfi"
      },
      "execution_count": null,
      "outputs": []
    },
    {
      "cell_type": "code",
      "source": [
        "!kaggle competitions download -c zillow-prize-1 "
      ],
      "metadata": {
        "id": "O9C1SOFedIkW",
        "colab": {
          "base_uri": "https://localhost:8080/"
        },
        "outputId": "cd1d6d8e-e97c-4bdd-e063-84059227f76f"
      },
      "execution_count": null,
      "outputs": [
        {
          "output_type": "stream",
          "name": "stdout",
          "text": [
            "Downloading zillow-prize-1.zip to /content\n",
            " 96% 325M/340M [00:03<00:00, 91.3MB/s]\n",
            "100% 340M/340M [00:03<00:00, 109MB/s] \n"
          ]
        }
      ]
    },
    {
      "cell_type": "code",
      "source": [
        "! unzip zillow-prize-1"
      ],
      "metadata": {
        "id": "Ro2j6yJ3dK3Q",
        "colab": {
          "base_uri": "https://localhost:8080/"
        },
        "outputId": "6a9368a1-53d5-468e-d2e2-1e0d13e5d490"
      },
      "execution_count": null,
      "outputs": [
        {
          "output_type": "stream",
          "name": "stdout",
          "text": [
            "Archive:  zillow-prize-1.zip\n",
            "  inflating: properties_2016.csv     \n",
            "  inflating: properties_2017.csv     \n",
            "  inflating: sample_submission.csv   \n",
            "  inflating: train_2016_v2.csv       \n",
            "  inflating: train_2017.csv          \n",
            "  inflating: zillow_data_dictionary.xlsx  \n"
          ]
        }
      ]
    },
    {
      "cell_type": "code",
      "source": [
        "#cargar los datos\n",
        "train2016 = pd.read_csv(\"train_2016_v2.csv\")\n",
        "train2017 = pd.read_csv(\"train_2017.csv\")\n",
        "properties_2016 = pd.read_csv(\"properties_2016.csv\")\n",
        "properties_2017 = pd.read_csv(\"properties_2017.csv\")"
      ],
      "metadata": {
        "id": "zTPH0cqWdOt9"
      },
      "execution_count": null,
      "outputs": []
    },
    {
      "cell_type": "code",
      "source": [
        "#Concatenamos los datos de train:\n",
        "train_2016 = train2016.merge(properties_2016)"
      ],
      "metadata": {
        "id": "gQPXR-sedSB5"
      },
      "execution_count": null,
      "outputs": []
    },
    {
      "cell_type": "code",
      "source": [
        "#Concatenamos los datos de train:\n",
        "train_2017 = train2017.merge(properties_2017)"
      ],
      "metadata": {
        "id": "Lo9HG9-mdSwA"
      },
      "execution_count": null,
      "outputs": []
    },
    {
      "cell_type": "markdown",
      "source": [
        "Eliminación de las columnas con muchos datos faltantes"
      ],
      "metadata": {
        "id": "tiL4AVXgeKcW"
      }
    },
    {
      "cell_type": "code",
      "source": [
        "missing_percentages = train_2016.isnull().mean()\n",
        "missing_percentages"
      ],
      "metadata": {
        "id": "tgBrwmLreLJg",
        "colab": {
          "base_uri": "https://localhost:8080/"
        },
        "outputId": "2d9a6b44-3b22-4fec-d7d5-77a3a19a8510"
      },
      "execution_count": null,
      "outputs": [
        {
          "output_type": "execute_result",
          "data": {
            "text/plain": [
              "parcelid                        0.000000\n",
              "logerror                        0.000000\n",
              "transactiondate                 0.000000\n",
              "airconditioningtypeid           0.681185\n",
              "architecturalstyletypeid        0.997109\n",
              "basementsqft                    0.999524\n",
              "bathroomcnt                     0.000000\n",
              "bedroomcnt                      0.000000\n",
              "buildingclasstypeid             0.999823\n",
              "buildingqualitytypeid           0.364564\n",
              "calculatedbathnbr               0.013093\n",
              "decktypeid                      0.992711\n",
              "finishedfloor1squarefeet        0.924054\n",
              "calculatedfinishedsquarefeet    0.007322\n",
              "finishedsquarefeet12            0.051831\n",
              "finishedsquarefeet13            0.999634\n",
              "finishedsquarefeet15            0.960521\n",
              "finishedsquarefeet50            0.924054\n",
              "finishedsquarefeet6             0.995336\n",
              "fips                            0.000000\n",
              "fireplacecnt                    0.893581\n",
              "fullbathcnt                     0.013093\n",
              "garagecarcnt                    0.668380\n",
              "garagetotalsqft                 0.668380\n",
              "hashottuborspa                  0.973802\n",
              "heatingorsystemtypeid           0.378787\n",
              "latitude                        0.000000\n",
              "longitude                       0.000000\n",
              "lotsizesquarefeet               0.112434\n",
              "poolcnt                         0.801706\n",
              "poolsizesum                     0.989266\n",
              "pooltypeid10                    0.987139\n",
              "pooltypeid2                     0.986663\n",
              "pooltypeid7                     0.815043\n",
              "propertycountylandusecode       0.000011\n",
              "propertylandusetypeid           0.000000\n",
              "propertyzoningdesc              0.354052\n",
              "rawcensustractandblock          0.000000\n",
              "regionidcity                    0.019972\n",
              "regionidcounty                  0.000000\n",
              "regionidneighborhood            0.601086\n",
              "regionidzip                     0.000388\n",
              "roomcnt                         0.000000\n",
              "storytypeid                     0.999524\n",
              "threequarterbathnbr             0.866973\n",
              "typeconstructiontypeid          0.996688\n",
              "unitcnt                         0.353608\n",
              "yardbuildingsqft17              0.970690\n",
              "yardbuildingsqft26              0.998948\n",
              "yearbuilt                       0.008374\n",
              "numberofstories                 0.772141\n",
              "fireplaceflag                   0.997541\n",
              "structuretaxvaluedollarcnt      0.004209\n",
              "taxvaluedollarcnt               0.000011\n",
              "assessmentyear                  0.000000\n",
              "landtaxvaluedollarcnt           0.000011\n",
              "taxamount                       0.000066\n",
              "taxdelinquencyflag              0.980249\n",
              "taxdelinquencyyear              0.980249\n",
              "censustractandblock             0.006702\n",
              "dtype: float64"
            ]
          },
          "metadata": {},
          "execution_count": 10
        }
      ]
    },
    {
      "cell_type": "code",
      "source": [
        "missing_percentages1 = train_2017.isnull().mean()\n",
        "missing_percentages1"
      ],
      "metadata": {
        "id": "hkTP6-v-eNP6",
        "colab": {
          "base_uri": "https://localhost:8080/"
        },
        "outputId": "af3c9e5a-9b7e-463d-9112-9329a55ae5fe"
      },
      "execution_count": null,
      "outputs": [
        {
          "output_type": "execute_result",
          "data": {
            "text/plain": [
              "parcelid                        0.000000\n",
              "logerror                        0.000000\n",
              "transactiondate                 0.000000\n",
              "airconditioningtypeid           0.677799\n",
              "architecturalstyletypeid        0.997333\n",
              "basementsqft                    0.999356\n",
              "bathroomcnt                     0.000438\n",
              "bedroomcnt                      0.000438\n",
              "buildingclasstypeid             0.999807\n",
              "buildingqualitytypeid           0.358239\n",
              "calculatedbathnbr               0.008375\n",
              "decktypeid                      0.992089\n",
              "finishedfloor1squarefeet        0.922217\n",
              "calculatedfinishedsquarefeet    0.003028\n",
              "finishedsquarefeet12            0.047544\n",
              "finishedsquarefeet13            0.999459\n",
              "finishedsquarefeet15            0.960999\n",
              "finishedsquarefeet50            0.922217\n",
              "finishedsquarefeet6             0.995027\n",
              "fips                            0.000438\n",
              "fireplacecnt                    0.893201\n",
              "fullbathcnt                     0.008375\n",
              "garagecarcnt                    0.671189\n",
              "garagetotalsqft                 0.671189\n",
              "hashottuborspa                  0.980171\n",
              "heatingorsystemtypeid           0.361305\n",
              "latitude                        0.000438\n",
              "longitude                       0.000438\n",
              "lotsizesquarefeet               0.106838\n",
              "poolcnt                         0.791607\n",
              "poolsizesum                     0.988803\n",
              "pooltypeid10                    0.994009\n",
              "pooltypeid2                     0.986162\n",
              "pooltypeid7                     0.805716\n",
              "propertycountylandusecode       0.000438\n",
              "propertylandusetypeid           0.000438\n",
              "propertyzoningdesc              0.349645\n",
              "rawcensustractandblock          0.000438\n",
              "regionidcity                    0.019404\n",
              "regionidcounty                  0.000438\n",
              "regionidneighborhood            0.600917\n",
              "regionidzip                     0.001082\n",
              "roomcnt                         0.000438\n",
              "storytypeid                     0.999356\n",
              "threequarterbathnbr             0.869790\n",
              "typeconstructiontypeid          0.997127\n",
              "unitcnt                         0.346720\n",
              "yardbuildingsqft17              0.969168\n",
              "yardbuildingsqft26              0.999098\n",
              "yearbuilt                       0.003917\n",
              "numberofstories                 0.773247\n",
              "fireplaceflag                   0.997784\n",
              "structuretaxvaluedollarcnt      0.001920\n",
              "taxvaluedollarcnt               0.000451\n",
              "assessmentyear                  0.000438\n",
              "landtaxvaluedollarcnt           0.000464\n",
              "taxamount                       0.000502\n",
              "taxdelinquencyflag              0.962635\n",
              "taxdelinquencyyear              0.962635\n",
              "censustractandblock             0.003621\n",
              "dtype: float64"
            ]
          },
          "metadata": {},
          "execution_count": 11
        }
      ]
    },
    {
      "cell_type": "code",
      "source": [
        "columns_to_drop = missing_percentages[missing_percentages > 0.7].index\n",
        "columns_to_drop"
      ],
      "metadata": {
        "id": "RDD5GwU7eSGA",
        "colab": {
          "base_uri": "https://localhost:8080/"
        },
        "outputId": "955fc6ae-c776-4d82-aaea-93d85d993a5f"
      },
      "execution_count": null,
      "outputs": [
        {
          "output_type": "execute_result",
          "data": {
            "text/plain": [
              "Index(['architecturalstyletypeid', 'basementsqft', 'buildingclasstypeid',\n",
              "       'decktypeid', 'finishedfloor1squarefeet', 'finishedsquarefeet13',\n",
              "       'finishedsquarefeet15', 'finishedsquarefeet50', 'finishedsquarefeet6',\n",
              "       'fireplacecnt', 'hashottuborspa', 'poolcnt', 'poolsizesum',\n",
              "       'pooltypeid10', 'pooltypeid2', 'pooltypeid7', 'storytypeid',\n",
              "       'threequarterbathnbr', 'typeconstructiontypeid', 'yardbuildingsqft17',\n",
              "       'yardbuildingsqft26', 'numberofstories', 'fireplaceflag',\n",
              "       'taxdelinquencyflag', 'taxdelinquencyyear'],\n",
              "      dtype='object')"
            ]
          },
          "metadata": {},
          "execution_count": 12
        }
      ]
    },
    {
      "cell_type": "code",
      "source": [
        "columns_to_drop1 = missing_percentages1[missing_percentages1 > 0.7].index\n",
        "columns_to_drop1"
      ],
      "metadata": {
        "id": "iqYN_dGIeTxJ",
        "colab": {
          "base_uri": "https://localhost:8080/"
        },
        "outputId": "b6bcf5c4-4768-4ed1-d65f-344faf7dbd0f"
      },
      "execution_count": null,
      "outputs": [
        {
          "output_type": "execute_result",
          "data": {
            "text/plain": [
              "Index(['architecturalstyletypeid', 'basementsqft', 'buildingclasstypeid',\n",
              "       'decktypeid', 'finishedfloor1squarefeet', 'finishedsquarefeet13',\n",
              "       'finishedsquarefeet15', 'finishedsquarefeet50', 'finishedsquarefeet6',\n",
              "       'fireplacecnt', 'hashottuborspa', 'poolcnt', 'poolsizesum',\n",
              "       'pooltypeid10', 'pooltypeid2', 'pooltypeid7', 'storytypeid',\n",
              "       'threequarterbathnbr', 'typeconstructiontypeid', 'yardbuildingsqft17',\n",
              "       'yardbuildingsqft26', 'numberofstories', 'fireplaceflag',\n",
              "       'taxdelinquencyflag', 'taxdelinquencyyear'],\n",
              "      dtype='object')"
            ]
          },
          "metadata": {},
          "execution_count": 13
        }
      ]
    },
    {
      "cell_type": "code",
      "source": [
        "train_2016.drop(columns_to_drop, axis=1, inplace=True)"
      ],
      "metadata": {
        "id": "FDsYv7lueWS6"
      },
      "execution_count": null,
      "outputs": []
    },
    {
      "cell_type": "code",
      "source": [
        "train_2017.drop(columns_to_drop1, axis=1, inplace=True)"
      ],
      "metadata": {
        "id": "-p8IfodQeYE0"
      },
      "execution_count": null,
      "outputs": []
    },
    {
      "cell_type": "code",
      "source": [
        "missing_percentages = train_2016.isnull().mean()\n",
        "missing_percentages"
      ],
      "metadata": {
        "id": "vxHw-_kCeavn",
        "colab": {
          "base_uri": "https://localhost:8080/"
        },
        "outputId": "a450b810-6716-46d3-ed18-8aaa7bf90fdb"
      },
      "execution_count": null,
      "outputs": [
        {
          "output_type": "execute_result",
          "data": {
            "text/plain": [
              "parcelid                        0.000000\n",
              "logerror                        0.000000\n",
              "transactiondate                 0.000000\n",
              "airconditioningtypeid           0.681185\n",
              "bathroomcnt                     0.000000\n",
              "bedroomcnt                      0.000000\n",
              "buildingqualitytypeid           0.364564\n",
              "calculatedbathnbr               0.013093\n",
              "calculatedfinishedsquarefeet    0.007322\n",
              "finishedsquarefeet12            0.051831\n",
              "fips                            0.000000\n",
              "fullbathcnt                     0.013093\n",
              "garagecarcnt                    0.668380\n",
              "garagetotalsqft                 0.668380\n",
              "heatingorsystemtypeid           0.378787\n",
              "latitude                        0.000000\n",
              "longitude                       0.000000\n",
              "lotsizesquarefeet               0.112434\n",
              "propertycountylandusecode       0.000011\n",
              "propertylandusetypeid           0.000000\n",
              "propertyzoningdesc              0.354052\n",
              "rawcensustractandblock          0.000000\n",
              "regionidcity                    0.019972\n",
              "regionidcounty                  0.000000\n",
              "regionidneighborhood            0.601086\n",
              "regionidzip                     0.000388\n",
              "roomcnt                         0.000000\n",
              "unitcnt                         0.353608\n",
              "yearbuilt                       0.008374\n",
              "structuretaxvaluedollarcnt      0.004209\n",
              "taxvaluedollarcnt               0.000011\n",
              "assessmentyear                  0.000000\n",
              "landtaxvaluedollarcnt           0.000011\n",
              "taxamount                       0.000066\n",
              "censustractandblock             0.006702\n",
              "dtype: float64"
            ]
          },
          "metadata": {},
          "execution_count": 16
        }
      ]
    },
    {
      "cell_type": "code",
      "source": [
        "missing_percentages1 = train_2017.isnull().mean()\n",
        "missing_percentages1"
      ],
      "metadata": {
        "id": "R9wFq4AFedCV",
        "colab": {
          "base_uri": "https://localhost:8080/"
        },
        "outputId": "16271c95-8ac7-41a0-cc25-7044f943cf7a"
      },
      "execution_count": null,
      "outputs": [
        {
          "output_type": "execute_result",
          "data": {
            "text/plain": [
              "parcelid                        0.000000\n",
              "logerror                        0.000000\n",
              "transactiondate                 0.000000\n",
              "airconditioningtypeid           0.677799\n",
              "bathroomcnt                     0.000438\n",
              "bedroomcnt                      0.000438\n",
              "buildingqualitytypeid           0.358239\n",
              "calculatedbathnbr               0.008375\n",
              "calculatedfinishedsquarefeet    0.003028\n",
              "finishedsquarefeet12            0.047544\n",
              "fips                            0.000438\n",
              "fullbathcnt                     0.008375\n",
              "garagecarcnt                    0.671189\n",
              "garagetotalsqft                 0.671189\n",
              "heatingorsystemtypeid           0.361305\n",
              "latitude                        0.000438\n",
              "longitude                       0.000438\n",
              "lotsizesquarefeet               0.106838\n",
              "propertycountylandusecode       0.000438\n",
              "propertylandusetypeid           0.000438\n",
              "propertyzoningdesc              0.349645\n",
              "rawcensustractandblock          0.000438\n",
              "regionidcity                    0.019404\n",
              "regionidcounty                  0.000438\n",
              "regionidneighborhood            0.600917\n",
              "regionidzip                     0.001082\n",
              "roomcnt                         0.000438\n",
              "unitcnt                         0.346720\n",
              "yearbuilt                       0.003917\n",
              "structuretaxvaluedollarcnt      0.001920\n",
              "taxvaluedollarcnt               0.000451\n",
              "assessmentyear                  0.000438\n",
              "landtaxvaluedollarcnt           0.000464\n",
              "taxamount                       0.000502\n",
              "censustractandblock             0.003621\n",
              "dtype: float64"
            ]
          },
          "metadata": {},
          "execution_count": 17
        }
      ]
    },
    {
      "cell_type": "code",
      "source": [
        "train_2016['airconditioningtypeid'].fillna(train_2017.airconditioningtypeid.median(), inplace=True)\n",
        "train_2016['bathroomcnt'].fillna(train_2017.bathroomcnt.median(), inplace=True)\n",
        "train_2016['bedroomcnt'].fillna(train_2017.bedroomcnt.median(), inplace=True)\n",
        "train_2016['buildingqualitytypeid'].fillna(train_2017.buildingqualitytypeid.median(), inplace=True)\n",
        "train_2016['calculatedbathnbr'].fillna(train_2017.calculatedbathnbr.median(), inplace=True)\n",
        "train_2016['calculatedfinishedsquarefeet'].fillna(train_2017.calculatedfinishedsquarefeet.median(), inplace=True)\n",
        "train_2016['finishedsquarefeet12'].fillna(train_2017.finishedsquarefeet12.median(), inplace=True)\n",
        "train_2016['fips'].fillna(train_2017.fips.median(), inplace=True)\n",
        "train_2016['fullbathcnt'].fillna(train_2017.fullbathcnt.median(), inplace=True)\n",
        "train_2016['garagecarcnt'].fillna(train_2017.garagecarcnt.median(), inplace=True)\n",
        "train_2016['garagetotalsqft'].fillna(train_2017.garagetotalsqft.median(), inplace=True)\n",
        "train_2016['heatingorsystemtypeid'].fillna(train_2017.heatingorsystemtypeid.median(), inplace=True)\n",
        "train_2016['latitude'].fillna(train_2017.latitude.median(), inplace=True)\n",
        "train_2016['longitude'].fillna(train_2017.longitude.median(), inplace=True)\n",
        "train_2016['finishedsquarefeet12'].fillna(train_2017.finishedsquarefeet12.median(), inplace=True)\n",
        "train_2016['lotsizesquarefeet'].fillna(train_2017.lotsizesquarefeet.median(), inplace=True)\n",
        "#train_2016['propertycountylandusecode'].fillna(train_2017.propertycountylandusecode.median(), inplace=True)\n",
        "train_2016['propertylandusetypeid'].fillna(train_2017.propertylandusetypeid.median(), inplace=True)\n",
        "#train_2016['propertyzoningdesc'].fillna(train_2017.propertyzoningdesc.median(), inplace=True)\n",
        "train_2016['rawcensustractandblock'].fillna(train_2017.rawcensustractandblock.median(), inplace=True)\n",
        "train_2016['regionidcity'].fillna(train_2017.regionidcity.median(), inplace=True)\n",
        "train_2016['regionidcounty'].fillna(train_2017.regionidcounty.median(), inplace=True)\n",
        "train_2016['regionidneighborhood'].fillna(train_2017.regionidneighborhood.median(), inplace=True)\n",
        "train_2016['regionidzip'].fillna(train_2017.regionidzip.median(), inplace=True)\n",
        "train_2016['roomcnt'].fillna(train_2017.roomcnt.median(), inplace=True)\n",
        "train_2016['unitcnt'].fillna(train_2017.unitcnt.median(), inplace=True)\n",
        "train_2016['yearbuilt'].fillna(train_2017.yearbuilt.median(), inplace=True)\n",
        "train_2016['structuretaxvaluedollarcnt'].fillna(train_2017.structuretaxvaluedollarcnt.median(), inplace=True)\n",
        "train_2016['taxvaluedollarcnt'].fillna(train_2017.taxvaluedollarcnt.median(), inplace=True)\n",
        "train_2016['assessmentyear'].fillna(train_2017.assessmentyear.median(), inplace=True)\n",
        "train_2016['landtaxvaluedollarcnt'].fillna(train_2017.landtaxvaluedollarcnt.median(), inplace=True)\n",
        "train_2016['taxamount'].fillna(train_2017.taxamount.median(), inplace=True)\n",
        "train_2016['censustractandblock'].fillna(train_2017.censustractandblock.median(), inplace=True)"
      ],
      "metadata": {
        "id": "8P5hGWoYefp-"
      },
      "execution_count": null,
      "outputs": []
    },
    {
      "cell_type": "code",
      "source": [
        "train_2017['airconditioningtypeid'].fillna(train_2017.airconditioningtypeid.median(), inplace=True)\n",
        "train_2017['bathroomcnt'].fillna(train_2017.bathroomcnt.median(), inplace=True)\n",
        "train_2017['bedroomcnt'].fillna(train_2017.bedroomcnt.median(), inplace=True)\n",
        "train_2017['buildingqualitytypeid'].fillna(train_2017.buildingqualitytypeid.median(), inplace=True)\n",
        "train_2017['calculatedbathnbr'].fillna(train_2017.calculatedbathnbr.median(), inplace=True)\n",
        "train_2017['calculatedfinishedsquarefeet'].fillna(train_2017.calculatedfinishedsquarefeet.median(), inplace=True)\n",
        "train_2017['finishedsquarefeet12'].fillna(train_2017.finishedsquarefeet12.median(), inplace=True)\n",
        "train_2017['fips'].fillna(train_2017.fips.median(), inplace=True)\n",
        "train_2017['fullbathcnt'].fillna(train_2017.fullbathcnt.median(), inplace=True)\n",
        "train_2017['garagecarcnt'].fillna(train_2017.garagecarcnt.median(), inplace=True)\n",
        "train_2017['garagetotalsqft'].fillna(train_2017.garagetotalsqft.median(), inplace=True)\n",
        "train_2017['heatingorsystemtypeid'].fillna(train_2017.heatingorsystemtypeid.median(), inplace=True)\n",
        "train_2017['latitude'].fillna(train_2017.latitude.median(), inplace=True)\n",
        "train_2017['longitude'].fillna(train_2017.longitude.median(), inplace=True)\n",
        "train_2017['finishedsquarefeet12'].fillna(train_2017.finishedsquarefeet12.median(), inplace=True)\n",
        "train_2017['lotsizesquarefeet'].fillna(train_2017.lotsizesquarefeet.median(), inplace=True)\n",
        "#train_2017['propertycountylandusecode'].fillna(train_2017.propertycountylandusecode.median(), inplace=True)\n",
        "train_2017['propertylandusetypeid'].fillna(train_2017.propertylandusetypeid.median(), inplace=True)\n",
        "#train_2017['propertyzoningdesc'].fillna(train_2017.propertyzoningdesc.median(), inplace=True)\n",
        "train_2017['rawcensustractandblock'].fillna(train_2017.rawcensustractandblock.median(), inplace=True)\n",
        "train_2017['regionidcity'].fillna(train_2017.regionidcity.median(), inplace=True)\n",
        "train_2017['regionidcounty'].fillna(train_2017.regionidcounty.median(), inplace=True)\n",
        "train_2017['regionidneighborhood'].fillna(train_2017.regionidneighborhood.median(), inplace=True)\n",
        "train_2017['regionidzip'].fillna(train_2017.regionidzip.median(), inplace=True)\n",
        "train_2017['roomcnt'].fillna(train_2017.roomcnt.median(), inplace=True)\n",
        "train_2017['unitcnt'].fillna(train_2017.unitcnt.median(), inplace=True)\n",
        "train_2017['yearbuilt'].fillna(train_2017.yearbuilt.median(), inplace=True)\n",
        "train_2017['structuretaxvaluedollarcnt'].fillna(train_2017.structuretaxvaluedollarcnt.median(), inplace=True)\n",
        "train_2017['taxvaluedollarcnt'].fillna(train_2017.taxvaluedollarcnt.median(), inplace=True)\n",
        "train_2017['assessmentyear'].fillna(train_2017.assessmentyear.median(), inplace=True)\n",
        "train_2017['landtaxvaluedollarcnt'].fillna(train_2017.landtaxvaluedollarcnt.median(), inplace=True)\n",
        "train_2017['taxamount'].fillna(train_2017.taxamount.median(), inplace=True)\n",
        "train_2017['censustractandblock'].fillna(train_2017.censustractandblock.median(), inplace=True)"
      ],
      "metadata": {
        "id": "pAQLZjTvegSU"
      },
      "execution_count": null,
      "outputs": []
    },
    {
      "cell_type": "code",
      "source": [
        "missing_percentages16 = train_2016.isnull().mean()\n",
        "missing_percentages16"
      ],
      "metadata": {
        "id": "HsRWyq0Xei32",
        "colab": {
          "base_uri": "https://localhost:8080/"
        },
        "outputId": "d07fea56-48ae-47c6-d572-467b32912926"
      },
      "execution_count": null,
      "outputs": [
        {
          "output_type": "execute_result",
          "data": {
            "text/plain": [
              "parcelid                        0.000000\n",
              "logerror                        0.000000\n",
              "transactiondate                 0.000000\n",
              "airconditioningtypeid           0.000000\n",
              "bathroomcnt                     0.000000\n",
              "bedroomcnt                      0.000000\n",
              "buildingqualitytypeid           0.000000\n",
              "calculatedbathnbr               0.000000\n",
              "calculatedfinishedsquarefeet    0.000000\n",
              "finishedsquarefeet12            0.000000\n",
              "fips                            0.000000\n",
              "fullbathcnt                     0.000000\n",
              "garagecarcnt                    0.000000\n",
              "garagetotalsqft                 0.000000\n",
              "heatingorsystemtypeid           0.000000\n",
              "latitude                        0.000000\n",
              "longitude                       0.000000\n",
              "lotsizesquarefeet               0.000000\n",
              "propertycountylandusecode       0.000011\n",
              "propertylandusetypeid           0.000000\n",
              "propertyzoningdesc              0.354052\n",
              "rawcensustractandblock          0.000000\n",
              "regionidcity                    0.000000\n",
              "regionidcounty                  0.000000\n",
              "regionidneighborhood            0.000000\n",
              "regionidzip                     0.000000\n",
              "roomcnt                         0.000000\n",
              "unitcnt                         0.000000\n",
              "yearbuilt                       0.000000\n",
              "structuretaxvaluedollarcnt      0.000000\n",
              "taxvaluedollarcnt               0.000000\n",
              "assessmentyear                  0.000000\n",
              "landtaxvaluedollarcnt           0.000000\n",
              "taxamount                       0.000000\n",
              "censustractandblock             0.000000\n",
              "dtype: float64"
            ]
          },
          "metadata": {},
          "execution_count": 20
        }
      ]
    },
    {
      "cell_type": "code",
      "source": [
        "missing_percentages17 = train_2017.isnull().mean()\n",
        "missing_percentages17"
      ],
      "metadata": {
        "id": "D0M7HZgEek46",
        "colab": {
          "base_uri": "https://localhost:8080/"
        },
        "outputId": "ea5541cb-21dd-4882-9173-44a66e562edb"
      },
      "execution_count": null,
      "outputs": [
        {
          "output_type": "execute_result",
          "data": {
            "text/plain": [
              "parcelid                        0.000000\n",
              "logerror                        0.000000\n",
              "transactiondate                 0.000000\n",
              "airconditioningtypeid           0.000000\n",
              "bathroomcnt                     0.000000\n",
              "bedroomcnt                      0.000000\n",
              "buildingqualitytypeid           0.000000\n",
              "calculatedbathnbr               0.000000\n",
              "calculatedfinishedsquarefeet    0.000000\n",
              "finishedsquarefeet12            0.000000\n",
              "fips                            0.000000\n",
              "fullbathcnt                     0.000000\n",
              "garagecarcnt                    0.000000\n",
              "garagetotalsqft                 0.000000\n",
              "heatingorsystemtypeid           0.000000\n",
              "latitude                        0.000000\n",
              "longitude                       0.000000\n",
              "lotsizesquarefeet               0.000000\n",
              "propertycountylandusecode       0.000438\n",
              "propertylandusetypeid           0.000000\n",
              "propertyzoningdesc              0.349645\n",
              "rawcensustractandblock          0.000000\n",
              "regionidcity                    0.000000\n",
              "regionidcounty                  0.000000\n",
              "regionidneighborhood            0.000000\n",
              "regionidzip                     0.000000\n",
              "roomcnt                         0.000000\n",
              "unitcnt                         0.000000\n",
              "yearbuilt                       0.000000\n",
              "structuretaxvaluedollarcnt      0.000000\n",
              "taxvaluedollarcnt               0.000000\n",
              "assessmentyear                  0.000000\n",
              "landtaxvaluedollarcnt           0.000000\n",
              "taxamount                       0.000000\n",
              "censustractandblock             0.000000\n",
              "dtype: float64"
            ]
          },
          "metadata": {},
          "execution_count": 21
        }
      ]
    },
    {
      "cell_type": "code",
      "source": [
        "logerror_zero16 = list(train_2016[train_2016.logerror == 0].index) #lista con los indices de los valores que tienen lecturas 0\n",
        "logerror_zero16"
      ],
      "metadata": {
        "id": "rrodKAGNen0n",
        "colab": {
          "base_uri": "https://localhost:8080/"
        },
        "outputId": "822c3ca4-a708-4b4a-d6a9-b77cd7472b00"
      },
      "execution_count": null,
      "outputs": [
        {
          "output_type": "execute_result",
          "data": {
            "text/plain": [
              "[64,\n",
              " 143,\n",
              " 223,\n",
              " 339,\n",
              " 655,\n",
              " 694,\n",
              " 826,\n",
              " 833,\n",
              " 870,\n",
              " 1123,\n",
              " 1293,\n",
              " 1323,\n",
              " 1348,\n",
              " 1389,\n",
              " 1396,\n",
              " 1641,\n",
              " 1752,\n",
              " 1807,\n",
              " 1886,\n",
              " 1969,\n",
              " 2061,\n",
              " 2315,\n",
              " 2609,\n",
              " 2707,\n",
              " 2898,\n",
              " 3311,\n",
              " 3370,\n",
              " 3420,\n",
              " 3519,\n",
              " 3590,\n",
              " 3635,\n",
              " 3942,\n",
              " 4007,\n",
              " 4157,\n",
              " 4165,\n",
              " 4167,\n",
              " 4238,\n",
              " 4375,\n",
              " 4450,\n",
              " 4563,\n",
              " 4570,\n",
              " 4628,\n",
              " 4632,\n",
              " 4676,\n",
              " 4783,\n",
              " 4973,\n",
              " 5054,\n",
              " 5114,\n",
              " 5117,\n",
              " 5129,\n",
              " 5161,\n",
              " 5506,\n",
              " 5613,\n",
              " 5648,\n",
              " 5688,\n",
              " 5773,\n",
              " 5776,\n",
              " 5799,\n",
              " 5847,\n",
              " 6070,\n",
              " 6180,\n",
              " 6223,\n",
              " 6352,\n",
              " 6355,\n",
              " 6386,\n",
              " 6479,\n",
              " 6488,\n",
              " 6601,\n",
              " 6822,\n",
              " 6859,\n",
              " 7058,\n",
              " 7091,\n",
              " 7147,\n",
              " 7175,\n",
              " 7204,\n",
              " 7231,\n",
              " 7234,\n",
              " 7593,\n",
              " 7659,\n",
              " 7662,\n",
              " 7695,\n",
              " 7844,\n",
              " 7874,\n",
              " 8035,\n",
              " 8071,\n",
              " 8265,\n",
              " 8840,\n",
              " 8984,\n",
              " 9023,\n",
              " 9308,\n",
              " 9468,\n",
              " 9748,\n",
              " 9776,\n",
              " 10140,\n",
              " 10390,\n",
              " 10456,\n",
              " 10568,\n",
              " 10681,\n",
              " 10690,\n",
              " 10894,\n",
              " 11032,\n",
              " 11159,\n",
              " 11543,\n",
              " 11599,\n",
              " 11775,\n",
              " 11964,\n",
              " 11998,\n",
              " 12044,\n",
              " 12169,\n",
              " 12523,\n",
              " 12537,\n",
              " 12593,\n",
              " 12635,\n",
              " 12688,\n",
              " 12829,\n",
              " 12855,\n",
              " 12903,\n",
              " 13018,\n",
              " 13091,\n",
              " 13128,\n",
              " 13329,\n",
              " 13337,\n",
              " 13340,\n",
              " 13538,\n",
              " 13734,\n",
              " 13893,\n",
              " 14300,\n",
              " 14363,\n",
              " 14437,\n",
              " 14583,\n",
              " 14808,\n",
              " 14890,\n",
              " 14923,\n",
              " 14941,\n",
              " 14996,\n",
              " 15236,\n",
              " 15312,\n",
              " 15687,\n",
              " 15695,\n",
              " 15834,\n",
              " 16016,\n",
              " 16071,\n",
              " 16078,\n",
              " 16299,\n",
              " 16321,\n",
              " 16544,\n",
              " 16718,\n",
              " 16752,\n",
              " 16804,\n",
              " 16959,\n",
              " 16980,\n",
              " 16998,\n",
              " 17032,\n",
              " 17056,\n",
              " 17358,\n",
              " 17631,\n",
              " 17650,\n",
              " 17745,\n",
              " 17774,\n",
              " 17789,\n",
              " 17813,\n",
              " 17818,\n",
              " 17963,\n",
              " 18033,\n",
              " 18036,\n",
              " 18148,\n",
              " 18161,\n",
              " 18327,\n",
              " 18452,\n",
              " 18510,\n",
              " 18909,\n",
              " 18913,\n",
              " 19066,\n",
              " 19162,\n",
              " 19234,\n",
              " 19261,\n",
              " 19432,\n",
              " 19536,\n",
              " 19587,\n",
              " 19663,\n",
              " 19759,\n",
              " 19762,\n",
              " 19933,\n",
              " 20020,\n",
              " 20512,\n",
              " 20566,\n",
              " 20665,\n",
              " 20682,\n",
              " 20737,\n",
              " 20803,\n",
              " 20916,\n",
              " 20952,\n",
              " 20994,\n",
              " 21026,\n",
              " 21135,\n",
              " 21306,\n",
              " 21654,\n",
              " 21771,\n",
              " 21788,\n",
              " 21878,\n",
              " 21983,\n",
              " 22225,\n",
              " 22535,\n",
              " 22580,\n",
              " 22885,\n",
              " 23050,\n",
              " 23054,\n",
              " 23124,\n",
              " 23207,\n",
              " 23334,\n",
              " 23349,\n",
              " 23392,\n",
              " 23403,\n",
              " 23531,\n",
              " 23647,\n",
              " 23709,\n",
              " 23820,\n",
              " 24025,\n",
              " 24145,\n",
              " 24162,\n",
              " 24258,\n",
              " 24284,\n",
              " 24360,\n",
              " 24644,\n",
              " 24660,\n",
              " 24861,\n",
              " 24923,\n",
              " 25080,\n",
              " 25358,\n",
              " 25551,\n",
              " 25628,\n",
              " 26104,\n",
              " 26143,\n",
              " 26146,\n",
              " 26217,\n",
              " 26512,\n",
              " 26639,\n",
              " 26657,\n",
              " 26670,\n",
              " 26686,\n",
              " 27046,\n",
              " 27108,\n",
              " 27165,\n",
              " 27196,\n",
              " 27296,\n",
              " 27334,\n",
              " 27398,\n",
              " 27500,\n",
              " 27542,\n",
              " 27695,\n",
              " 27714,\n",
              " 27945,\n",
              " 27961,\n",
              " 28025,\n",
              " 28104,\n",
              " 28206,\n",
              " 28210,\n",
              " 28246,\n",
              " 28311,\n",
              " 28336,\n",
              " 28390,\n",
              " 28540,\n",
              " 28733,\n",
              " 28766,\n",
              " 28937,\n",
              " 28955,\n",
              " 28970,\n",
              " 28994,\n",
              " 29065,\n",
              " 29082,\n",
              " 29127,\n",
              " 29271,\n",
              " 29371,\n",
              " 29380,\n",
              " 29462,\n",
              " 29550,\n",
              " 29661,\n",
              " 29689,\n",
              " 29921,\n",
              " 30010,\n",
              " 30071,\n",
              " 30144,\n",
              " 30182,\n",
              " 30488,\n",
              " 30523,\n",
              " 30578,\n",
              " 30660,\n",
              " 30737,\n",
              " 30836,\n",
              " 30876,\n",
              " 30953,\n",
              " 30961,\n",
              " 31078,\n",
              " 31157,\n",
              " 31222,\n",
              " 31236,\n",
              " 31248,\n",
              " 31355,\n",
              " 31359,\n",
              " 31412,\n",
              " 31450,\n",
              " 31507,\n",
              " 31712,\n",
              " 31776,\n",
              " 31808,\n",
              " 32084,\n",
              " 32195,\n",
              " 32318,\n",
              " 32466,\n",
              " 32676,\n",
              " 32731,\n",
              " 32777,\n",
              " 32893,\n",
              " 33056,\n",
              " 33164,\n",
              " 33175,\n",
              " 33216,\n",
              " 33228,\n",
              " 33264,\n",
              " 33384,\n",
              " 33599,\n",
              " 33774,\n",
              " 33841,\n",
              " 33960,\n",
              " 34102,\n",
              " 34421,\n",
              " 34541,\n",
              " 34562,\n",
              " 34902,\n",
              " 35003,\n",
              " 35027,\n",
              " 35041,\n",
              " 35240,\n",
              " 35245,\n",
              " 35404,\n",
              " 35554,\n",
              " 35586,\n",
              " 35714,\n",
              " 35735,\n",
              " 35812,\n",
              " 35860,\n",
              " 35908,\n",
              " 35993,\n",
              " 36486,\n",
              " 36532,\n",
              " 36539,\n",
              " 36541,\n",
              " 36613,\n",
              " 36681,\n",
              " 36776,\n",
              " 36965,\n",
              " 36997,\n",
              " 37231,\n",
              " 37327,\n",
              " 37415,\n",
              " 37812,\n",
              " 37815,\n",
              " 37857,\n",
              " 37885,\n",
              " 37960,\n",
              " 37971,\n",
              " 38104,\n",
              " 38505,\n",
              " 38520,\n",
              " 38608,\n",
              " 38737,\n",
              " 38739,\n",
              " 38832,\n",
              " 38946,\n",
              " 38967,\n",
              " 39006,\n",
              " 39049,\n",
              " 39116,\n",
              " 39119,\n",
              " 39184,\n",
              " 39333,\n",
              " 39336,\n",
              " 39375,\n",
              " 39461,\n",
              " 39519,\n",
              " 39569,\n",
              " 39816,\n",
              " 39906,\n",
              " 39939,\n",
              " 39964,\n",
              " 40087,\n",
              " 40164,\n",
              " 40469,\n",
              " 40526,\n",
              " 40531,\n",
              " 40556,\n",
              " 40560,\n",
              " 40561,\n",
              " 40655,\n",
              " 40669,\n",
              " 40676,\n",
              " 40730,\n",
              " 40733,\n",
              " 40796,\n",
              " 41014,\n",
              " 41079,\n",
              " 41141,\n",
              " 41186,\n",
              " 41252,\n",
              " 41293,\n",
              " 41395,\n",
              " 41484,\n",
              " 41601,\n",
              " 41621,\n",
              " 41677,\n",
              " 41748,\n",
              " 41874,\n",
              " 42015,\n",
              " 42119,\n",
              " 42281,\n",
              " 42367,\n",
              " 42454,\n",
              " 42459,\n",
              " 42624,\n",
              " 42637,\n",
              " 42911,\n",
              " 42913,\n",
              " 43322,\n",
              " 43429,\n",
              " 43607,\n",
              " 43719,\n",
              " 43773,\n",
              " 43853,\n",
              " 43868,\n",
              " 43943,\n",
              " 44120,\n",
              " 44128,\n",
              " 44139,\n",
              " 44191,\n",
              " 44389,\n",
              " 44428,\n",
              " 44434,\n",
              " 44464,\n",
              " 44675,\n",
              " 44863,\n",
              " 44903,\n",
              " 45197,\n",
              " 45519,\n",
              " 45529,\n",
              " 45951,\n",
              " 46119,\n",
              " 46142,\n",
              " 46463,\n",
              " 46560,\n",
              " 46571,\n",
              " 46678,\n",
              " 46692,\n",
              " 46794,\n",
              " 46991,\n",
              " 47076,\n",
              " 47200,\n",
              " 47230,\n",
              " 47246,\n",
              " 47325,\n",
              " 47483,\n",
              " 47600,\n",
              " 47601,\n",
              " 47615,\n",
              " 47616,\n",
              " 47625,\n",
              " 47999,\n",
              " 48089,\n",
              " 48517,\n",
              " 48518,\n",
              " 48730,\n",
              " 48911,\n",
              " 49024,\n",
              " 49152,\n",
              " 49290,\n",
              " 49326,\n",
              " 49668,\n",
              " 49752,\n",
              " 49859,\n",
              " 49891,\n",
              " 50023,\n",
              " 50534,\n",
              " 50562,\n",
              " 50833,\n",
              " 50997,\n",
              " 51116,\n",
              " 51406,\n",
              " 51565,\n",
              " 51573,\n",
              " 51616,\n",
              " 51850,\n",
              " 51866,\n",
              " 52069,\n",
              " 52091,\n",
              " 52124,\n",
              " 52338,\n",
              " 52360,\n",
              " 52427,\n",
              " 52457,\n",
              " 52477,\n",
              " 52503,\n",
              " 52545,\n",
              " 52645,\n",
              " 52690,\n",
              " 53081,\n",
              " 53159,\n",
              " 53258,\n",
              " 53269,\n",
              " 53337,\n",
              " 53355,\n",
              " 53458,\n",
              " 53512,\n",
              " 53968,\n",
              " 54118,\n",
              " 54193,\n",
              " 54215,\n",
              " 54232,\n",
              " 54303,\n",
              " 54381,\n",
              " 54582,\n",
              " 54976,\n",
              " 54981,\n",
              " 55381,\n",
              " 55430,\n",
              " 55445,\n",
              " 55650,\n",
              " 55651,\n",
              " 55663,\n",
              " 55750,\n",
              " 55919,\n",
              " 55976,\n",
              " 56008,\n",
              " 56054,\n",
              " 56063,\n",
              " 56085,\n",
              " 56097,\n",
              " 56269,\n",
              " 56272,\n",
              " 56310,\n",
              " 56329,\n",
              " 56357,\n",
              " 56359,\n",
              " 56366,\n",
              " 56435,\n",
              " 56534,\n",
              " 56815,\n",
              " 56869,\n",
              " 57159,\n",
              " 57279,\n",
              " 57524,\n",
              " 57623,\n",
              " 57842,\n",
              " 57845,\n",
              " 58046,\n",
              " 58194,\n",
              " 58301,\n",
              " 58530,\n",
              " 58823,\n",
              " 58979,\n",
              " 59129,\n",
              " 59164,\n",
              " 59293,\n",
              " 59330,\n",
              " 59438,\n",
              " 59614,\n",
              " 59692,\n",
              " 59768,\n",
              " 59899,\n",
              " 60039,\n",
              " 60177,\n",
              " 60201,\n",
              " 60311,\n",
              " 60497,\n",
              " 60730,\n",
              " 60833,\n",
              " 61145,\n",
              " 61154,\n",
              " 61166,\n",
              " 61303,\n",
              " 61520,\n",
              " 61911,\n",
              " 61929,\n",
              " 61964,\n",
              " 61991,\n",
              " 62144,\n",
              " 62149,\n",
              " 62194,\n",
              " 62286,\n",
              " 62290,\n",
              " 62301,\n",
              " 62472,\n",
              " 62481,\n",
              " 62582,\n",
              " 62594,\n",
              " 62597,\n",
              " 62741,\n",
              " 62765,\n",
              " 62844,\n",
              " 62899,\n",
              " 63072,\n",
              " 63105,\n",
              " 63373,\n",
              " 63431,\n",
              " 63464,\n",
              " 63475,\n",
              " 63573,\n",
              " 63607,\n",
              " 63612,\n",
              " 63723,\n",
              " 63780,\n",
              " 63931,\n",
              " 64070,\n",
              " 64163,\n",
              " 64175,\n",
              " 64256,\n",
              " 64379,\n",
              " 64449,\n",
              " 64450,\n",
              " 64578,\n",
              " 64725,\n",
              " 64926,\n",
              " 64963,\n",
              " 65025,\n",
              " 65123,\n",
              " 65244,\n",
              " 65298,\n",
              " 65332,\n",
              " 65450,\n",
              " 65582,\n",
              " 65617,\n",
              " 65646,\n",
              " 65734,\n",
              " 66009,\n",
              " 66076,\n",
              " 66125,\n",
              " 66138,\n",
              " 66561,\n",
              " 66625,\n",
              " 66643,\n",
              " 66806,\n",
              " 67020,\n",
              " 67126,\n",
              " 67180,\n",
              " 67302,\n",
              " 67502,\n",
              " 67571,\n",
              " 67749,\n",
              " 67817,\n",
              " 67820,\n",
              " 67947,\n",
              " 68207,\n",
              " 68210,\n",
              " 68312,\n",
              " 68418,\n",
              " 68436,\n",
              " 68708,\n",
              " 68805,\n",
              " 68856,\n",
              " 68959,\n",
              " 69009,\n",
              " 69036,\n",
              " 69092,\n",
              " 69116,\n",
              " 69304,\n",
              " 69327,\n",
              " 69596,\n",
              " 70066,\n",
              " 70170,\n",
              " 70187,\n",
              " 70279,\n",
              " 70284,\n",
              " 70477,\n",
              " 70600,\n",
              " 70605,\n",
              " 70679,\n",
              " 70720,\n",
              " 70916,\n",
              " 70940,\n",
              " 70961,\n",
              " 71234,\n",
              " 71379,\n",
              " 71715,\n",
              " 72002,\n",
              " 72157,\n",
              " 72246,\n",
              " 72273,\n",
              " 72298,\n",
              " 72312,\n",
              " 72519,\n",
              " 72524,\n",
              " 72699,\n",
              " 72727,\n",
              " 72790,\n",
              " 73037,\n",
              " 73084,\n",
              " 73239,\n",
              " 73550,\n",
              " 73595,\n",
              " 73717,\n",
              " 73787,\n",
              " 73893,\n",
              " 74009,\n",
              " 74253,\n",
              " 74564,\n",
              " 74657,\n",
              " 74724,\n",
              " 74735,\n",
              " 74942,\n",
              " 75256,\n",
              " 75503,\n",
              " 75608,\n",
              " 75733,\n",
              " 75753,\n",
              " 76117,\n",
              " 76123,\n",
              " 76359,\n",
              " 76460,\n",
              " 76528,\n",
              " 76994,\n",
              " 77000,\n",
              " 77244,\n",
              " 77316,\n",
              " 77518,\n",
              " 77679,\n",
              " 77830,\n",
              " 77967,\n",
              " 78129,\n",
              " 78163,\n",
              " 78220,\n",
              " 78474,\n",
              " 78491,\n",
              " 78564,\n",
              " 78765,\n",
              " 78773,\n",
              " 79119,\n",
              " 79179,\n",
              " 79190,\n",
              " 79265,\n",
              " 79358,\n",
              " 79397,\n",
              " 79599,\n",
              " 79687,\n",
              " 79735,\n",
              " 80216,\n",
              " 80220,\n",
              " 80420,\n",
              " 80454,\n",
              " 80459,\n",
              " 80566,\n",
              " 80642,\n",
              " 80749,\n",
              " 80790,\n",
              " 81040,\n",
              " 81072,\n",
              " 81080,\n",
              " 81115,\n",
              " 81227,\n",
              " 81256,\n",
              " 81268,\n",
              " 81355,\n",
              " 81359,\n",
              " 81400,\n",
              " 81561,\n",
              " 81643,\n",
              " 81662,\n",
              " 81755,\n",
              " 81769,\n",
              " 81859,\n",
              " 82588,\n",
              " 82644,\n",
              " 82765,\n",
              " 82795,\n",
              " 82854,\n",
              " 82908,\n",
              " 82973,\n",
              " 83245,\n",
              " 83257,\n",
              " 83281,\n",
              " 83370,\n",
              " 83390,\n",
              " 83413,\n",
              " 83518,\n",
              " 83552,\n",
              " 83590,\n",
              " 83597,\n",
              " 83639,\n",
              " 83676,\n",
              " 83748,\n",
              " 83854,\n",
              " 83886,\n",
              " 84000,\n",
              " 84012,\n",
              " 84075,\n",
              " 84341,\n",
              " 84350,\n",
              " 84479,\n",
              " 84795,\n",
              " 84971,\n",
              " 85221,\n",
              " 85326,\n",
              " 85393,\n",
              " 85477,\n",
              " 85680,\n",
              " 85692,\n",
              " 85701,\n",
              " 85710,\n",
              " 85732,\n",
              " 85837,\n",
              " 86008,\n",
              " 86334,\n",
              " 86345,\n",
              " 86420,\n",
              " 86457,\n",
              " 86609,\n",
              " 86683,\n",
              " 86834,\n",
              " 86930,\n",
              " 86982,\n",
              " 87026,\n",
              " 87061,\n",
              " 87111,\n",
              " 87306,\n",
              " 87344,\n",
              " 87402,\n",
              " 87466,\n",
              " 87527,\n",
              " 87663,\n",
              " 87796,\n",
              " 87834,\n",
              " 87898,\n",
              " 87925,\n",
              " 87940,\n",
              " 87948,\n",
              " 88027,\n",
              " 88201,\n",
              " 88400,\n",
              " 88521,\n",
              " 88531,\n",
              " 88611,\n",
              " 88998,\n",
              " 88999,\n",
              " 89325,\n",
              " 89647,\n",
              " 89684,\n",
              " 89698,\n",
              " 89749,\n",
              " 89932,\n",
              " 90121]"
            ]
          },
          "metadata": {},
          "execution_count": 22
        }
      ]
    },
    {
      "cell_type": "code",
      "source": [
        "print(train_2016.dtypes)"
      ],
      "metadata": {
        "id": "R2Quv7_6etem",
        "colab": {
          "base_uri": "https://localhost:8080/"
        },
        "outputId": "a341aa56-541b-457c-cead-ea1610715c92"
      },
      "execution_count": null,
      "outputs": [
        {
          "output_type": "stream",
          "name": "stdout",
          "text": [
            "parcelid                          int64\n",
            "logerror                        float64\n",
            "transactiondate                  object\n",
            "airconditioningtypeid           float64\n",
            "bathroomcnt                     float64\n",
            "bedroomcnt                      float64\n",
            "buildingqualitytypeid           float64\n",
            "calculatedbathnbr               float64\n",
            "calculatedfinishedsquarefeet    float64\n",
            "finishedsquarefeet12            float64\n",
            "fips                            float64\n",
            "fullbathcnt                     float64\n",
            "garagecarcnt                    float64\n",
            "garagetotalsqft                 float64\n",
            "heatingorsystemtypeid           float64\n",
            "latitude                        float64\n",
            "longitude                       float64\n",
            "lotsizesquarefeet               float64\n",
            "propertycountylandusecode        object\n",
            "propertylandusetypeid           float64\n",
            "propertyzoningdesc               object\n",
            "rawcensustractandblock          float64\n",
            "regionidcity                    float64\n",
            "regionidcounty                  float64\n",
            "regionidneighborhood            float64\n",
            "regionidzip                     float64\n",
            "roomcnt                         float64\n",
            "unitcnt                         float64\n",
            "yearbuilt                       float64\n",
            "structuretaxvaluedollarcnt      float64\n",
            "taxvaluedollarcnt               float64\n",
            "assessmentyear                  float64\n",
            "landtaxvaluedollarcnt           float64\n",
            "taxamount                       float64\n",
            "censustractandblock             float64\n",
            "dtype: object\n"
          ]
        }
      ]
    },
    {
      "cell_type": "code",
      "source": [
        "logerror_zero17 = list(train_2017[train_2017.logerror == 0].index) #lista con los indices de los valores que tienen lecturas 0\n",
        "logerror_zero17"
      ],
      "metadata": {
        "id": "kZNa2zm7eyBL",
        "colab": {
          "base_uri": "https://localhost:8080/"
        },
        "outputId": "2be2f1ae-69f9-4f38-b5b6-110179d37c1e"
      },
      "execution_count": null,
      "outputs": [
        {
          "output_type": "execute_result",
          "data": {
            "text/plain": [
              "[]"
            ]
          },
          "metadata": {},
          "execution_count": 24
        }
      ]
    },
    {
      "cell_type": "code",
      "source": [
        "print(train_2017.dtypes)"
      ],
      "metadata": {
        "id": "d76Rr89Oe0XI",
        "colab": {
          "base_uri": "https://localhost:8080/"
        },
        "outputId": "a4a607d3-1ada-4405-ffb2-51ce65bc7c07"
      },
      "execution_count": null,
      "outputs": [
        {
          "output_type": "stream",
          "name": "stdout",
          "text": [
            "parcelid                          int64\n",
            "logerror                        float64\n",
            "transactiondate                  object\n",
            "airconditioningtypeid           float64\n",
            "bathroomcnt                     float64\n",
            "bedroomcnt                      float64\n",
            "buildingqualitytypeid           float64\n",
            "calculatedbathnbr               float64\n",
            "calculatedfinishedsquarefeet    float64\n",
            "finishedsquarefeet12            float64\n",
            "fips                            float64\n",
            "fullbathcnt                     float64\n",
            "garagecarcnt                    float64\n",
            "garagetotalsqft                 float64\n",
            "heatingorsystemtypeid           float64\n",
            "latitude                        float64\n",
            "longitude                       float64\n",
            "lotsizesquarefeet               float64\n",
            "propertycountylandusecode        object\n",
            "propertylandusetypeid           float64\n",
            "propertyzoningdesc               object\n",
            "rawcensustractandblock          float64\n",
            "regionidcity                    float64\n",
            "regionidcounty                  float64\n",
            "regionidneighborhood            float64\n",
            "regionidzip                     float64\n",
            "roomcnt                         float64\n",
            "unitcnt                         float64\n",
            "yearbuilt                       float64\n",
            "structuretaxvaluedollarcnt      float64\n",
            "taxvaluedollarcnt               float64\n",
            "assessmentyear                  float64\n",
            "landtaxvaluedollarcnt           float64\n",
            "taxamount                       float64\n",
            "censustractandblock             float64\n",
            "dtype: object\n"
          ]
        }
      ]
    },
    {
      "cell_type": "code",
      "source": [
        "var_categoricas16 = [\"propertyzoningdesc\", \"propertycountylandusecode\",\"transactiondate\"]\n",
        "encoder16 = preprocessing.LabelEncoder()\n",
        "\n",
        "for i in var_categoricas16:\n",
        "    \n",
        "    train_2016[i] = encoder16.fit_transform(train_2016[i])\n",
        "    \n",
        "print (train_2016.info())"
      ],
      "metadata": {
        "id": "PpujN3y_e2gM",
        "colab": {
          "base_uri": "https://localhost:8080/"
        },
        "outputId": "9411ba96-afdf-4a28-9855-97c1fb104e02"
      },
      "execution_count": null,
      "outputs": [
        {
          "output_type": "stream",
          "name": "stdout",
          "text": [
            "<class 'pandas.core.frame.DataFrame'>\n",
            "Int64Index: 90275 entries, 0 to 90274\n",
            "Data columns (total 35 columns):\n",
            " #   Column                        Non-Null Count  Dtype  \n",
            "---  ------                        --------------  -----  \n",
            " 0   parcelid                      90275 non-null  int64  \n",
            " 1   logerror                      90275 non-null  float64\n",
            " 2   transactiondate               90275 non-null  int64  \n",
            " 3   airconditioningtypeid         90275 non-null  float64\n",
            " 4   bathroomcnt                   90275 non-null  float64\n",
            " 5   bedroomcnt                    90275 non-null  float64\n",
            " 6   buildingqualitytypeid         90275 non-null  float64\n",
            " 7   calculatedbathnbr             90275 non-null  float64\n",
            " 8   calculatedfinishedsquarefeet  90275 non-null  float64\n",
            " 9   finishedsquarefeet12          90275 non-null  float64\n",
            " 10  fips                          90275 non-null  float64\n",
            " 11  fullbathcnt                   90275 non-null  float64\n",
            " 12  garagecarcnt                  90275 non-null  float64\n",
            " 13  garagetotalsqft               90275 non-null  float64\n",
            " 14  heatingorsystemtypeid         90275 non-null  float64\n",
            " 15  latitude                      90275 non-null  float64\n",
            " 16  longitude                     90275 non-null  float64\n",
            " 17  lotsizesquarefeet             90275 non-null  float64\n",
            " 18  propertycountylandusecode     90275 non-null  int64  \n",
            " 19  propertylandusetypeid         90275 non-null  float64\n",
            " 20  propertyzoningdesc            90275 non-null  int64  \n",
            " 21  rawcensustractandblock        90275 non-null  float64\n",
            " 22  regionidcity                  90275 non-null  float64\n",
            " 23  regionidcounty                90275 non-null  float64\n",
            " 24  regionidneighborhood          90275 non-null  float64\n",
            " 25  regionidzip                   90275 non-null  float64\n",
            " 26  roomcnt                       90275 non-null  float64\n",
            " 27  unitcnt                       90275 non-null  float64\n",
            " 28  yearbuilt                     90275 non-null  float64\n",
            " 29  structuretaxvaluedollarcnt    90275 non-null  float64\n",
            " 30  taxvaluedollarcnt             90275 non-null  float64\n",
            " 31  assessmentyear                90275 non-null  float64\n",
            " 32  landtaxvaluedollarcnt         90275 non-null  float64\n",
            " 33  taxamount                     90275 non-null  float64\n",
            " 34  censustractandblock           90275 non-null  float64\n",
            "dtypes: float64(31), int64(4)\n",
            "memory usage: 24.8 MB\n",
            "None\n"
          ]
        }
      ]
    },
    {
      "cell_type": "code",
      "source": [
        "var_categoricas17 = [\"propertyzoningdesc\", \"propertycountylandusecode\", \"transactiondate\"]\n",
        "encoder17 = preprocessing.LabelEncoder()\n",
        "\n",
        "for i in var_categoricas17:\n",
        "    \n",
        "    train_2017[i] = encoder17.fit_transform(train_2017[i])\n",
        "    \n",
        "print (train_2017.info())"
      ],
      "metadata": {
        "id": "fyNaDylIe5PQ",
        "colab": {
          "base_uri": "https://localhost:8080/"
        },
        "outputId": "bd2eead0-f6e5-483f-e0fe-09d158335839"
      },
      "execution_count": null,
      "outputs": [
        {
          "output_type": "stream",
          "name": "stdout",
          "text": [
            "<class 'pandas.core.frame.DataFrame'>\n",
            "Int64Index: 77613 entries, 0 to 77612\n",
            "Data columns (total 35 columns):\n",
            " #   Column                        Non-Null Count  Dtype  \n",
            "---  ------                        --------------  -----  \n",
            " 0   parcelid                      77613 non-null  int64  \n",
            " 1   logerror                      77613 non-null  float64\n",
            " 2   transactiondate               77613 non-null  int64  \n",
            " 3   airconditioningtypeid         77613 non-null  float64\n",
            " 4   bathroomcnt                   77613 non-null  float64\n",
            " 5   bedroomcnt                    77613 non-null  float64\n",
            " 6   buildingqualitytypeid         77613 non-null  float64\n",
            " 7   calculatedbathnbr             77613 non-null  float64\n",
            " 8   calculatedfinishedsquarefeet  77613 non-null  float64\n",
            " 9   finishedsquarefeet12          77613 non-null  float64\n",
            " 10  fips                          77613 non-null  float64\n",
            " 11  fullbathcnt                   77613 non-null  float64\n",
            " 12  garagecarcnt                  77613 non-null  float64\n",
            " 13  garagetotalsqft               77613 non-null  float64\n",
            " 14  heatingorsystemtypeid         77613 non-null  float64\n",
            " 15  latitude                      77613 non-null  float64\n",
            " 16  longitude                     77613 non-null  float64\n",
            " 17  lotsizesquarefeet             77613 non-null  float64\n",
            " 18  propertycountylandusecode     77613 non-null  int64  \n",
            " 19  propertylandusetypeid         77613 non-null  float64\n",
            " 20  propertyzoningdesc            77613 non-null  int64  \n",
            " 21  rawcensustractandblock        77613 non-null  float64\n",
            " 22  regionidcity                  77613 non-null  float64\n",
            " 23  regionidcounty                77613 non-null  float64\n",
            " 24  regionidneighborhood          77613 non-null  float64\n",
            " 25  regionidzip                   77613 non-null  float64\n",
            " 26  roomcnt                       77613 non-null  float64\n",
            " 27  unitcnt                       77613 non-null  float64\n",
            " 28  yearbuilt                     77613 non-null  float64\n",
            " 29  structuretaxvaluedollarcnt    77613 non-null  float64\n",
            " 30  taxvaluedollarcnt             77613 non-null  float64\n",
            " 31  assessmentyear                77613 non-null  float64\n",
            " 32  landtaxvaluedollarcnt         77613 non-null  float64\n",
            " 33  taxamount                     77613 non-null  float64\n",
            " 34  censustractandblock           77613 non-null  float64\n",
            "dtypes: float64(31), int64(4)\n",
            "memory usage: 21.3 MB\n",
            "None\n"
          ]
        }
      ]
    },
    {
      "cell_type": "code",
      "source": [
        "train_2016.shape"
      ],
      "metadata": {
        "colab": {
          "base_uri": "https://localhost:8080/"
        },
        "id": "Lpyd1Wz3b3Ld",
        "outputId": "06547bd1-5cbe-4247-b0cf-1626738a807d"
      },
      "execution_count": null,
      "outputs": [
        {
          "output_type": "execute_result",
          "data": {
            "text/plain": [
              "(90275, 35)"
            ]
          },
          "metadata": {},
          "execution_count": 28
        }
      ]
    },
    {
      "cell_type": "code",
      "source": [
        "train_2017.shape"
      ],
      "metadata": {
        "colab": {
          "base_uri": "https://localhost:8080/"
        },
        "id": "VS5b1Wbjb6N8",
        "outputId": "3039fbab-0df1-44de-ebe0-ffcb79ff5954"
      },
      "execution_count": null,
      "outputs": [
        {
          "output_type": "execute_result",
          "data": {
            "text/plain": [
              "(77613, 35)"
            ]
          },
          "metadata": {},
          "execution_count": 29
        }
      ]
    },
    {
      "cell_type": "markdown",
      "source": [
        "**MODELO** "
      ],
      "metadata": {
        "id": "CUOVTvbAfPFv"
      }
    },
    {
      "cell_type": "markdown",
      "source": [
        "Métrica"
      ],
      "metadata": {
        "id": "SrxmJJ86f0zj"
      }
    },
    {
      "cell_type": "markdown",
      "source": [
        "Como métrica de Machine Learning usaremos el MAE (Mean Absolute Error) entre el error \n",
        "de registro previsto y el error de registro real. Esto para facilitar y cuantificar la precisión del \n",
        "modelo, el cual se espera que tenga un porcentaje de acierto alto y que a su vez se vea \n",
        "reflejado en la cantidad de personas que usan la aplicación a la hora de hablar de bienes \n",
        "raíces.\n",
        "El error de registro definido así:\n",
        "𝑙𝑜𝑔𝑒𝑟𝑟𝑜𝑟 = 𝑙𝑜𝑔𝑍𝑒𝑠𝑡𝑖𝑚𝑎𝑡𝑒 − 𝑙𝑜𝑔𝑝𝑟𝑒𝑐𝑖𝑜 𝑣𝑒𝑛𝑡𝑎"
      ],
      "metadata": {
        "id": "PfefZyUUkx8f"
      }
    },
    {
      "cell_type": "code",
      "source": [
        "from sklearn.metrics import mean_absolute_error\n",
        "\n",
        "# Obtener el número mínimo de filas entre los dos datasets\n",
        "min_rows = min(len(train_2016), len(train_2017))"
      ],
      "metadata": {
        "id": "wEUVOI-mcRZy"
      },
      "execution_count": null,
      "outputs": []
    },
    {
      "cell_type": "code",
      "source": [
        "min_rows"
      ],
      "metadata": {
        "colab": {
          "base_uri": "https://localhost:8080/"
        },
        "id": "s8UtIkJXciUo",
        "outputId": "6aff2a88-92f3-47a9-88d8-385357725426"
      },
      "execution_count": null,
      "outputs": [
        {
          "output_type": "execute_result",
          "data": {
            "text/plain": [
              "77613"
            ]
          },
          "metadata": {},
          "execution_count": 31
        }
      ]
    },
    {
      "cell_type": "code",
      "source": [
        "# Seleccionar un subconjunto de filas en el dataset más grande\n",
        "train_2016 = train_2016[:min_rows]\n",
        "train_2017 = train_2017[:min_rows]"
      ],
      "metadata": {
        "id": "ZFS6OuErcVQg"
      },
      "execution_count": null,
      "outputs": []
    },
    {
      "cell_type": "code",
      "source": [
        "# Calcular el MAE entre los errores de registro previstos y reales\n",
        "mae = mean_absolute_error(train_2016['logerror'], train_2017['logerror'])"
      ],
      "metadata": {
        "id": "Xzp5VALncX55"
      },
      "execution_count": null,
      "outputs": []
    },
    {
      "cell_type": "code",
      "source": [
        "print(\"Mean Absolute Error (MAE):\", mae)"
      ],
      "metadata": {
        "colab": {
          "base_uri": "https://localhost:8080/"
        },
        "id": "IHnCVUk3caXu",
        "outputId": "6d0d4724-40d9-4dff-f312-c095f53b1112"
      },
      "execution_count": null,
      "outputs": [
        {
          "output_type": "stream",
          "name": "stdout",
          "text": [
            "Mean Absolute Error (MAE): 0.11307266377047162\n"
          ]
        }
      ]
    },
    {
      "cell_type": "code",
      "source": [
        "from sklearn.linear_model import LinearRegression\n",
        "from sklearn.ensemble import RandomForestRegressor\n",
        "from sklearn.metrics import mean_absolute_error\n",
        "\n",
        "# Obtener el número mínimo de filas entre los dos datasets\n",
        "min_rows = min(len(train_2016), len(train_2017))"
      ],
      "metadata": {
        "id": "Edju7xiHwJRe"
      },
      "execution_count": null,
      "outputs": []
    },
    {
      "cell_type": "code",
      "source": [
        "# Seleccionar un subconjunto de filas en el dataset más grande\n",
        "train_2016 = train_2016[:min_rows]\n",
        "train_2017 = train_2017[:min_rows]"
      ],
      "metadata": {
        "id": "Ru0eNZytxUiN"
      },
      "execution_count": null,
      "outputs": []
    },
    {
      "cell_type": "code",
      "source": [
        "# Separar los datos en características (X) y variable objetivo (y)\n",
        "X_2016 = train_2016.drop('logerror', axis=1)\n",
        "y_2016 = train_2016['logerror']\n",
        "X_2017 = train_2017.drop('logerror', axis=1)\n",
        "y_2017 = train_2017['logerror']"
      ],
      "metadata": {
        "id": "eNcnwsRbxIem"
      },
      "execution_count": null,
      "outputs": []
    },
    {
      "cell_type": "code",
      "source": [
        "# Regresión lineal\n",
        "linear_model = LinearRegression()\n",
        "linear_model.fit(X_2016, y_2016)\n",
        "predictions_linear = linear_model.predict(X_2017)\n",
        "mae_linear = mean_absolute_error(y_2017, predictions_linear)\n",
        "print(\"MAE - Regresión Lineal:\", mae_linear)"
      ],
      "metadata": {
        "colab": {
          "base_uri": "https://localhost:8080/"
        },
        "id": "aSwK-mpjwyOM",
        "outputId": "8e6fe611-5b89-4602-c523-653f898ff4d6"
      },
      "execution_count": null,
      "outputs": [
        {
          "output_type": "stream",
          "name": "stdout",
          "text": [
            "MAE - Regresión Lineal: 0.07047456750960691\n"
          ]
        }
      ]
    },
    {
      "cell_type": "code",
      "source": [
        "import xgboost as xgb\n",
        "from sklearn.metrics import mean_absolute_error\n",
        "\n",
        "# Crear el objeto DMatrix para XGBoost\n",
        "dtrain = xgb.DMatrix(X_2016, label=y_2016)\n",
        "dtest = xgb.DMatrix(X_2017)"
      ],
      "metadata": {
        "id": "zh5GHFVn0gLr"
      },
      "execution_count": null,
      "outputs": []
    },
    {
      "cell_type": "code",
      "source": [
        "# Configurar los parámetros del modelo de bosque aleatorio\n",
        "params = {\n",
        "    'objective': 'reg:squarederror',\n",
        "    'eval_metric': 'mae'\n",
        "}"
      ],
      "metadata": {
        "id": "5GHMRN8e0l6H"
      },
      "execution_count": null,
      "outputs": []
    },
    {
      "cell_type": "code",
      "source": [
        "# Entrenar el modelo de bosque aleatorio\n",
        "model = xgb.train(params, dtrain)"
      ],
      "metadata": {
        "id": "_i4gP1_V0hGK"
      },
      "execution_count": null,
      "outputs": []
    },
    {
      "cell_type": "code",
      "source": [
        "# Realizar predicciones en el dataset 2017\n",
        "predictions = model.predict(dtest)\n"
      ],
      "metadata": {
        "id": "rXKI-gBL0usX"
      },
      "execution_count": null,
      "outputs": []
    },
    {
      "cell_type": "code",
      "source": [
        "# Calcular el MAE entre las predicciones y los valores reales del logerror\n",
        "maeBA = mean_absolute_error(y_2017, predictions)\n",
        "print(\"MAE - Bosque Aleatorio (XGBoost):\", maeBA)"
      ],
      "metadata": {
        "colab": {
          "base_uri": "https://localhost:8080/"
        },
        "id": "eAn34p9n0zEb",
        "outputId": "d8fa83b4-6eee-4b87-bf5f-dff772a4a76b"
      },
      "execution_count": null,
      "outputs": [
        {
          "output_type": "stream",
          "name": "stdout",
          "text": [
            "MAE - Bosque Aleatorio (XGBoost): 0.07342472678372643\n"
          ]
        }
      ]
    },
    {
      "cell_type": "code",
      "source": [
        "# Comparar las variables y encontrar el menor\n",
        "menor = min(mae, mae_linear, maeBA)\n",
        "\n",
        "# Imprimir el resultado\n",
        "print(\"El menor valor es:\", menor, \"mae linear\")\n"
      ],
      "metadata": {
        "colab": {
          "base_uri": "https://localhost:8080/"
        },
        "id": "6nmMkRqR2Brd",
        "outputId": "bf73f86d-5e7f-4512-8c75-ed598a281f56"
      },
      "execution_count": null,
      "outputs": [
        {
          "output_type": "stream",
          "name": "stdout",
          "text": [
            "El menor valor es: 0.07047456750960691 mae linear\n"
          ]
        }
      ]
    },
    {
      "cell_type": "markdown",
      "source": [
        "Validación Cruzada"
      ],
      "metadata": {
        "id": "HuQQYQCi4QcA"
      }
    },
    {
      "cell_type": "code",
      "source": [
        "from sklearn.model_selection import cross_val_score\n",
        "\n",
        "\n",
        "# Separar los datos en características (X) y variable objetivo (y)\n",
        "X = pd.concat([train_2016, train_2017]).drop('logerror', axis=1)\n",
        "y = pd.concat([train_2016, train_2017])['logerror']"
      ],
      "metadata": {
        "id": "PhaUi-ZE4SoE"
      },
      "execution_count": null,
      "outputs": []
    },
    {
      "cell_type": "code",
      "source": [
        "# Crear el modelo de regresión lineal\n",
        "model = LinearRegression()"
      ],
      "metadata": {
        "id": "5s5FRHYe4h1r"
      },
      "execution_count": null,
      "outputs": []
    },
    {
      "cell_type": "code",
      "source": [
        "# Realizar validación cruzada con 5 folds\n",
        "scores = cross_val_score(model, X, y, scoring='neg_mean_absolute_error', cv=5)"
      ],
      "metadata": {
        "id": "Tqy9JxXW4iDg"
      },
      "execution_count": null,
      "outputs": []
    },
    {
      "cell_type": "code",
      "source": [
        "# Calcular el MAE promedio a partir de los scores\n",
        "mae_cv = -scores.mean()"
      ],
      "metadata": {
        "id": "qk8N4lD84lRS"
      },
      "execution_count": null,
      "outputs": []
    },
    {
      "cell_type": "code",
      "source": [
        "print(\"MAE - Validación Cruzada:\", mae_cv)"
      ],
      "metadata": {
        "colab": {
          "base_uri": "https://localhost:8080/"
        },
        "id": "1QR7xWrJ4n35",
        "outputId": "4a163d83-190e-4c64-e2a8-570793d0b279"
      },
      "execution_count": null,
      "outputs": [
        {
          "output_type": "stream",
          "name": "stdout",
          "text": [
            "MAE - Validación Cruzada: 0.06998102060651418\n"
          ]
        }
      ]
    },
    {
      "cell_type": "markdown",
      "source": [
        "Comparamos con y sin validación cruzada"
      ],
      "metadata": {
        "id": "GlpQjoSY45ql"
      }
    },
    {
      "cell_type": "code",
      "source": [
        "menorr=min(mae_linear,mae_cv)\n",
        "print(menorr,\"MAE con validacion cruzada\")"
      ],
      "metadata": {
        "colab": {
          "base_uri": "https://localhost:8080/"
        },
        "id": "m00EQ7WP5GYh",
        "outputId": "9a17fffd-26cc-42c1-90c9-8c9e0e195562"
      },
      "execution_count": null,
      "outputs": [
        {
          "output_type": "stream",
          "name": "stdout",
          "text": [
            "0.06998102060651418 MAE con validacion cruzada\n"
          ]
        }
      ]
    },
    {
      "cell_type": "markdown",
      "source": [
        "Curvas de Aprendizaje"
      ],
      "metadata": {
        "id": "tJiTl35G6IA6"
      }
    },
    {
      "cell_type": "code",
      "source": [
        "from sklearn.model_selection import learning_curve\n",
        "train_sizes, train_scores, val_scores = learning_curve(\n",
        "    model, X, y, train_sizes=np.linspace(0.1, 1.0, 10),\n",
        "    scoring='neg_mean_absolute_error', cv=5\n",
        ")"
      ],
      "metadata": {
        "id": "M_yb_ly06J6V"
      },
      "execution_count": null,
      "outputs": []
    },
    {
      "cell_type": "code",
      "source": [
        "# Calcular los valores promedio y desviaciones estándar de los scores\n",
        "train_scores_mean = -np.mean(train_scores, axis=1)\n",
        "train_scores_std = np.std(train_scores, axis=1)\n",
        "val_scores_mean = -np.mean(val_scores, axis=1)\n",
        "val_scores_std = np.std(val_scores, axis=1)"
      ],
      "metadata": {
        "id": "aXyvrpQ66g4P"
      },
      "execution_count": null,
      "outputs": []
    },
    {
      "cell_type": "code",
      "source": [
        "# Plotear las curvas de aprendizaje\n",
        "plt.figure(figsize=(10, 6))\n",
        "plt.title('Curvas de Aprendizaje')\n",
        "plt.xlabel('Tamaño del conjunto de entrenamiento')\n",
        "plt.ylabel('MAE')\n",
        "plt.grid(True)\n",
        "plt.fill_between(train_sizes, train_scores_mean - train_scores_std,\n",
        "                 train_scores_mean + train_scores_std, alpha=0.1, color='r')\n",
        "plt.fill_between(train_sizes, val_scores_mean - val_scores_std,\n",
        "                 val_scores_mean + val_scores_std, alpha=0.1, color='g')\n",
        "plt.plot(train_sizes, train_scores_mean, 'o-', color='r', label='Entrenamiento')\n",
        "plt.plot(train_sizes, val_scores_mean, 'o-', color='g', label='Validación')\n",
        "plt.legend(loc='best')\n",
        "plt.show()"
      ],
      "metadata": {
        "colab": {
          "base_uri": "https://localhost:8080/",
          "height": 564
        },
        "id": "rT28JcIw6noy",
        "outputId": "dc83e64a-d7c0-414a-843b-9d5803fff98a"
      },
      "execution_count": null,
      "outputs": [
        {
          "output_type": "display_data",
          "data": {
            "text/plain": [
              "<Figure size 1000x600 with 1 Axes>"
            ],
            "image/png": "[encoded data removed]"
          },
          "metadata": {}
        }
      ]
    },
    {
      "cell_type": "markdown",
      "source": [
        "Metodos Supervisados"
      ],
      "metadata": {
        "id": "LsZbBHtDH8ax"
      }
    },
    {
      "cell_type": "code",
      "source": [
        "from sklearn.linear_model import Ridge\n",
        "from sklearn.svm import SVR\n",
        "from sklearn.ensemble import RandomForestRegressor\n",
        "from sklearn.metrics import mean_absolute_error"
      ],
      "metadata": {
        "id": "PIMMDbJzLaws"
      },
      "execution_count": null,
      "outputs": []
    },
    {
      "cell_type": "code",
      "source": [
        "# Separar los datos en características (X) y variable objetivo (y)\n",
        "X_2016 = train_2016.drop('logerror', axis=1)\n",
        "y_2016 = train_2016['logerror']\n",
        "X_2017 = train_2017.drop('logerror', axis=1)\n",
        "y_2017 = train_2017['logerror']"
      ],
      "metadata": {
        "id": "aZrz2FSoRKan"
      },
      "execution_count": null,
      "outputs": []
    },
    {
      "cell_type": "code",
      "source": [
        "# Crear modelos de Regresión Ridge, SVM y Random Forest\n",
        "ridge_model = Ridge()\n",
        "svm_model = SVR()\n",
        "rf_model = RandomForestRegressor()"
      ],
      "metadata": {
        "id": "4FTqBzpvRY8i"
      },
      "execution_count": null,
      "outputs": []
    },
    {
      "cell_type": "code",
      "source": [
        "# Entrenar los modelos\n",
        "ridge_model.fit(X_2016, y_2016)\n",
        "\n"
      ],
      "metadata": {
        "colab": {
          "base_uri": "https://localhost:8080/",
          "height": 75
        },
        "id": "JZQVnSKGRcCa",
        "outputId": "ba074313-d6a1-474e-dc81-a1d9d6141d4a"
      },
      "execution_count": null,
      "outputs": [
        {
          "output_type": "execute_result",
          "data": {
            "text/plain": [
              "Ridge()"
            ],
            "text/html": [
              "<style>#sk-container-id-1 {color: black;background-color: white;}#sk-container-id-1 pre{padding: 0;}#sk-container-id-1 div.sk-toggleable {background-color: white;}#sk-container-id-1 label.sk-toggleable__label {cursor: pointer;display: block;width: 100%;margin-bottom: 0;padding: 0.3em;box-sizing: border-box;text-align: center;}#sk-container-id-1 label.sk-toggleable__label-arrow:before {content: \"▸\";float: left;margin-right: 0.25em;color: #696969;}#sk-container-id-1 label.sk-toggleable__label-arrow:hover:before {color: black;}#sk-container-id-1 div.sk-estimator:hover label.sk-toggleable__label-arrow:before {color: black;}#sk-container-id-1 div.sk-toggleable__content {max-height: 0;max-width: 0;overflow: hidden;text-align: left;background-color: #f0f8ff;}#sk-container-id-1 div.sk-toggleable__content pre {margin: 0.2em;color: black;border-radius: 0.25em;background-color: #f0f8ff;}#sk-container-id-1 input.sk-toggleable__control:checked~div.sk-toggleable__content {max-height: 200px;max-width: 100%;overflow: auto;}#sk-container-id-1 input.sk-toggleable__control:checked~label.sk-toggleable__label-arrow:before {content: \"▾\";}#sk-container-id-1 div.sk-estimator input.sk-toggleable__control:checked~label.sk-toggleable__label {background-color: #d4ebff;}#sk-container-id-1 div.sk-label input.sk-toggleable__control:checked~label.sk-toggleable__label {background-color: #d4ebff;}#sk-container-id-1 input.sk-hidden--visually {border: 0;clip: rect(1px 1px 1px 1px);clip: rect(1px, 1px, 1px, 1px);height: 1px;margin: -1px;overflow: hidden;padding: 0;position: absolute;width: 1px;}#sk-container-id-1 div.sk-estimator {font-family: monospace;background-color: #f0f8ff;border: 1px dotted black;border-radius: 0.25em;box-sizing: border-box;margin-bottom: 0.5em;}#sk-container-id-1 div.sk-estimator:hover {background-color: #d4ebff;}#sk-container-id-1 div.sk-parallel-item::after {content: \"\";width: 100%;border-bottom: 1px solid gray;flex-grow: 1;}#sk-container-id-1 div.sk-label:hover label.sk-toggleable__label {background-color: #d4ebff;}#sk-container-id-1 div.sk-serial::before {content: \"\";position: absolute;border-left: 1px solid gray;box-sizing: border-box;top: 0;bottom: 0;left: 50%;z-index: 0;}#sk-container-id-1 div.sk-serial {display: flex;flex-direction: column;align-items: center;background-color: white;padding-right: 0.2em;padding-left: 0.2em;position: relative;}#sk-container-id-1 div.sk-item {position: relative;z-index: 1;}#sk-container-id-1 div.sk-parallel {display: flex;align-items: stretch;justify-content: center;background-color: white;position: relative;}#sk-container-id-1 div.sk-item::before, #sk-container-id-1 div.sk-parallel-item::before {content: \"\";position: absolute;border-left: 1px solid gray;box-sizing: border-box;top: 0;bottom: 0;left: 50%;z-index: -1;}#sk-container-id-1 div.sk-parallel-item {display: flex;flex-direction: column;z-index: 1;position: relative;background-color: white;}#sk-container-id-1 div.sk-parallel-item:first-child::after {align-self: flex-end;width: 50%;}#sk-container-id-1 div.sk-parallel-item:last-child::after {align-self: flex-start;width: 50%;}#sk-container-id-1 div.sk-parallel-item:only-child::after {width: 0;}#sk-container-id-1 div.sk-dashed-wrapped {border: 1px dashed gray;margin: 0 0.4em 0.5em 0.4em;box-sizing: border-box;padding-bottom: 0.4em;background-color: white;}#sk-container-id-1 div.sk-label label {font-family: monospace;font-weight: bold;display: inline-block;line-height: 1.2em;}#sk-container-id-1 div.sk-label-container {text-align: center;}#sk-container-id-1 div.sk-container {/* jupyter's `normalize.less` sets `[hidden] { display: none; }` but bootstrap.min.css set `[hidden] { display: none !important; }` so we also need the `!important` here to be able to override the default hidden behavior on the sphinx rendered scikit-learn.org. See: https://github.com/scikit-learn/scikit-learn/issues/21755 */display: inline-block !important;position: relative;}#sk-container-id-1 div.sk-text-repr-fallback {display: none;}</style><div id=\"sk-container-id-1\" class=\"sk-top-container\"><div class=\"sk-text-repr-fallback\"><pre>Ridge()</pre><b>In a Jupyter environment, please rerun this cell to show the HTML representation or trust the notebook. <br />On GitHub, the HTML representation is unable to render, please try loading this page with nbviewer.org.</b></div><div class=\"sk-container\" hidden><div class=\"sk-item\"><div class=\"sk-estimator sk-toggleable\"><input class=\"sk-toggleable__control sk-hidden--visually\" id=\"sk-estimator-id-1\" type=\"checkbox\" checked><label for=\"sk-estimator-id-1\" class=\"sk-toggleable__label sk-toggleable__label-arrow\">Ridge</label><div class=\"sk-toggleable__content\"><pre>Ridge()</pre></div></div></div></div></div>"
            ]
          },
          "metadata": {},
          "execution_count": 62
        }
      ]
    },
    {
      "cell_type": "code",
      "source": [
        "# Predecir los valores de los datasets de 2016 y 2017\n",
        "y_pred_2016 = ridge_model.predict(X_2016)\n",
        "y_pred_2017 = ridge_model.predict(X_2017)"
      ],
      "metadata": {
        "id": "B3Ss6nrQSP6H"
      },
      "execution_count": null,
      "outputs": []
    },
    {
      "cell_type": "code",
      "source": [
        "# Calcular el MAE para los datasets de 2016 y 2017\n",
        "mae_2016 = mean_absolute_error(y_2016, y_pred_2016)\n",
        "mae_2017 = mean_absolute_error(y_2017, y_pred_2017)"
      ],
      "metadata": {
        "id": "sRPRuYkXSX69"
      },
      "execution_count": null,
      "outputs": []
    },
    {
      "cell_type": "code",
      "source": [
        "# Imprimir los MAE\n",
        "print(\"MAE - Regresión Ridge (2016):\", mae_2016)\n",
        "print(\"MAE - Regresión Ridge (2017):\", mae_2017)"
      ],
      "metadata": {
        "colab": {
          "base_uri": "https://localhost:8080/"
        },
        "id": "Y9KAh6OASdoZ",
        "outputId": "8319890b-057d-47c5-abec-ddaff195af73"
      },
      "execution_count": null,
      "outputs": [
        {
          "output_type": "stream",
          "name": "stdout",
          "text": [
            "MAE - Regresión Ridge (2016): 0.06878446828711116\n",
            "MAE - Regresión Ridge (2017): 0.07047450535006293\n"
          ]
        }
      ]
    },
    {
      "cell_type": "markdown",
      "source": [
        "Metodos no supervisados"
      ],
      "metadata": {
        "id": "Bu6hKEJjS6Pm"
      }
    },
    {
      "cell_type": "code",
      "source": [
        "from sklearn.cluster import KMeans\n",
        "from sklearn.decomposition import PCA\n",
        "\n",
        "# Aplicar K-means clustering\n",
        "kmeans = KMeans(n_clusters=2)\n",
        "kmeans.fit(X)"
      ],
      "metadata": {
        "colab": {
          "base_uri": "https://localhost:8080/",
          "height": 75
        },
        "id": "aIAWzQDkS8YA",
        "outputId": "5b2c219e-7ac4-4019-8591-bac8c5d814bb"
      },
      "execution_count": null,
      "outputs": [
        {
          "output_type": "execute_result",
          "data": {
            "text/plain": [
              "KMeans(n_clusters=2)"
            ],
            "text/html": [
              "<style>#sk-container-id-2 {color: black;background-color: white;}#sk-container-id-2 pre{padding: 0;}#sk-container-id-2 div.sk-toggleable {background-color: white;}#sk-container-id-2 label.sk-toggleable__label {cursor: pointer;display: block;width: 100%;margin-bottom: 0;padding: 0.3em;box-sizing: border-box;text-align: center;}#sk-container-id-2 label.sk-toggleable__label-arrow:before {content: \"▸\";float: left;margin-right: 0.25em;color: #696969;}#sk-container-id-2 label.sk-toggleable__label-arrow:hover:before {color: black;}#sk-container-id-2 div.sk-estimator:hover label.sk-toggleable__label-arrow:before {color: black;}#sk-container-id-2 div.sk-toggleable__content {max-height: 0;max-width: 0;overflow: hidden;text-align: left;background-color: #f0f8ff;}#sk-container-id-2 div.sk-toggleable__content pre {margin: 0.2em;color: black;border-radius: 0.25em;background-color: #f0f8ff;}#sk-container-id-2 input.sk-toggleable__control:checked~div.sk-toggleable__content {max-height: 200px;max-width: 100%;overflow: auto;}#sk-container-id-2 input.sk-toggleable__control:checked~label.sk-toggleable__label-arrow:before {content: \"▾\";}#sk-container-id-2 div.sk-estimator input.sk-toggleable__control:checked~label.sk-toggleable__label {background-color: #d4ebff;}#sk-container-id-2 div.sk-label input.sk-toggleable__control:checked~label.sk-toggleable__label {background-color: #d4ebff;}#sk-container-id-2 input.sk-hidden--visually {border: 0;clip: rect(1px 1px 1px 1px);clip: rect(1px, 1px, 1px, 1px);height: 1px;margin: -1px;overflow: hidden;padding: 0;position: absolute;width: 1px;}#sk-container-id-2 div.sk-estimator {font-family: monospace;background-color: #f0f8ff;border: 1px dotted black;border-radius: 0.25em;box-sizing: border-box;margin-bottom: 0.5em;}#sk-container-id-2 div.sk-estimator:hover {background-color: #d4ebff;}#sk-container-id-2 div.sk-parallel-item::after {content: \"\";width: 100%;border-bottom: 1px solid gray;flex-grow: 1;}#sk-container-id-2 div.sk-label:hover label.sk-toggleable__label {background-color: #d4ebff;}#sk-container-id-2 div.sk-serial::before {content: \"\";position: absolute;border-left: 1px solid gray;box-sizing: border-box;top: 0;bottom: 0;left: 50%;z-index: 0;}#sk-container-id-2 div.sk-serial {display: flex;flex-direction: column;align-items: center;background-color: white;padding-right: 0.2em;padding-left: 0.2em;position: relative;}#sk-container-id-2 div.sk-item {position: relative;z-index: 1;}#sk-container-id-2 div.sk-parallel {display: flex;align-items: stretch;justify-content: center;background-color: white;position: relative;}#sk-container-id-2 div.sk-item::before, #sk-container-id-2 div.sk-parallel-item::before {content: \"\";position: absolute;border-left: 1px solid gray;box-sizing: border-box;top: 0;bottom: 0;left: 50%;z-index: -1;}#sk-container-id-2 div.sk-parallel-item {display: flex;flex-direction: column;z-index: 1;position: relative;background-color: white;}#sk-container-id-2 div.sk-parallel-item:first-child::after {align-self: flex-end;width: 50%;}#sk-container-id-2 div.sk-parallel-item:last-child::after {align-self: flex-start;width: 50%;}#sk-container-id-2 div.sk-parallel-item:only-child::after {width: 0;}#sk-container-id-2 div.sk-dashed-wrapped {border: 1px dashed gray;margin: 0 0.4em 0.5em 0.4em;box-sizing: border-box;padding-bottom: 0.4em;background-color: white;}#sk-container-id-2 div.sk-label label {font-family: monospace;font-weight: bold;display: inline-block;line-height: 1.2em;}#sk-container-id-2 div.sk-label-container {text-align: center;}#sk-container-id-2 div.sk-container {/* jupyter's `normalize.less` sets `[hidden] { display: none; }` but bootstrap.min.css set `[hidden] { display: none !important; }` so we also need the `!important` here to be able to override the default hidden behavior on the sphinx rendered scikit-learn.org. See: https://github.com/scikit-learn/scikit-learn/issues/21755 */display: inline-block !important;position: relative;}#sk-container-id-2 div.sk-text-repr-fallback {display: none;}</style><div id=\"sk-container-id-2\" class=\"sk-top-container\"><div class=\"sk-text-repr-fallback\"><pre>KMeans(n_clusters=2)</pre><b>In a Jupyter environment, please rerun this cell to show the HTML representation or trust the notebook. <br />On GitHub, the HTML representation is unable to render, please try loading this page with nbviewer.org.</b></div><div class=\"sk-container\" hidden><div class=\"sk-item\"><div class=\"sk-estimator sk-toggleable\"><input class=\"sk-toggleable__control sk-hidden--visually\" id=\"sk-estimator-id-2\" type=\"checkbox\" checked><label for=\"sk-estimator-id-2\" class=\"sk-toggleable__label sk-toggleable__label-arrow\">KMeans</label><div class=\"sk-toggleable__content\"><pre>KMeans(n_clusters=2)</pre></div></div></div></div></div>"
            ]
          },
          "metadata": {},
          "execution_count": 66
        }
      ]
    },
    {
      "cell_type": "code",
      "source": [
        "# Obtener las etiquetas de los clusters\n",
        "cluster_labels = kmeans.labels_"
      ],
      "metadata": {
        "id": "TEfmABa6Ta84"
      },
      "execution_count": null,
      "outputs": []
    },
    {
      "cell_type": "code",
      "source": [
        "# Aplicar PCA para reducir la dimensionalidad\n",
        "pca = PCA(n_components=2)\n",
        "X_pca = pca.fit_transform(X)"
      ],
      "metadata": {
        "id": "2LT-uxfUTgAw"
      },
      "execution_count": null,
      "outputs": []
    },
    {
      "cell_type": "code",
      "source": [
        "# Imprimir los resultados de clustering y PCA\n",
        "print(\"Etiquetas de los clusters:\")\n",
        "print(cluster_labels)\n",
        "print(\"Componentes principales:\")\n",
        "print(X_pca)"
      ],
      "metadata": {
        "colab": {
          "base_uri": "https://localhost:8080/"
        },
        "id": "TX7mLoF4TkCO",
        "outputId": "add22294-3839-4e98-ffbc-c3e589ac330f"
      },
      "execution_count": null,
      "outputs": [
        {
          "output_type": "stream",
          "name": "stdout",
          "text": [
            "Etiquetas de los clusters:\n",
            "[0 0 0 ... 0 0 0]\n",
            "Componentes principales:\n",
            "[[-1.22696031e+11 -1.95692434e+06]\n",
            " [-1.17730490e+11  1.40732113e+06]\n",
            " [-1.19124489e+11 -8.75453799e+05]\n",
            " ...\n",
            " [ 6.16321530e+11  4.07976265e+06]\n",
            " [-1.19424470e+11 -1.99704321e+05]\n",
            " [-1.18728471e+11 -1.43347606e+05]]\n"
          ]
        }
      ]
    },
    {
      "cell_type": "code",
      "source": [],
      "metadata": {
        "id": "S-OdyhZYTsaP"
      },
      "execution_count": null,
      "outputs": []
    }
  ]
}